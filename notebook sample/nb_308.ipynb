{
 "cells": [
  {
   "cell_type": "markdown",
   "metadata": {
    "colab_type": "text",
    "id": "view-in-github"
   },
   "source": [
    "<a href=\"https://colab.research.google.com/github/YoungriKIM/Using_Colab/blob/main/m21_FI_RF1_iris_plus_py.ipynb\" target=\"_parent\"><img src=\"https://colab.research.google.com/assets/colab-badge.svg\" alt=\"Open In Colab\"/></a>"
   ]
  },
  {
   "cell_type": "code",
   "execution_count": 12,
   "metadata": {
    "colab": {
     "base_uri": "https://localhost:8080/",
     "height": 455
    },
    "id": "zehfyJLWiZpX",
    "outputId": "0d9b9ecc-1958-4ff3-b968-a6e036e1f0ad"
   },
   "outputs": [
    {
     "name": "stdout",
     "output_type": "stream",
     "text": [
      "feature_names_1: \n",
      " ['sepal length (cm)', 'sepal width (cm)', 'petal length (cm)', 'petal width (cm)']\n",
      "importances_1 : \n",
      " [0.12496359 0.01730182 0.38761223 0.47012236]\n",
      "score_1:  0.9333333333333333\n"
     ]
    },
    {
     "data": {
      "image/png": "[encoded data removed]",
      "text/plain": [
       "<Figure size 432x288 with 1 Axes>"
      ]
     },
     "metadata": {
      "needs_background": "light",
      "tags": []
     },
     "output_type": "display_data"
    },
    {
     "name": "stdout",
     "output_type": "stream",
     "text": [
      "feature_names_2: \n",
      " ['sepal width (cm)', 'sepal length (cm)']\n",
      "importances_2 : \n",
      " [0.48054076 0.51945924]\n",
      "score_2:  0.9333333333333333\n"
     ]
    }
   ],
   "source": [
    "# feature_importances_를 이용해 칼럼별 중요도를 그래프로 출력해보고\n",
    "# 중요도가 적은 칼럼을 삭제하여 기존과 비교해보자\n",
    "\n",
    "import numpy as np\n",
    "import pandas as pd\n",
    "from sklearn.datasets import load_iris\n",
    "from sklearn.model_selection import train_test_split\n",
    "from sklearn.ensemble import RandomForestClassifier\n",
    "import matplotlib.pyplot as plt\n",
    "import warnings\n",
    "warnings.filterwarnings('ignore')\n",
    "\n",
    "#1. 데이터 지정, 전처리\n",
    "dataset = load_iris()\n",
    "x = dataset.data\n",
    "y = dataset.target\n",
    "x_train,x_test,y_train,y_test = train_test_split(x, y, test_size=0.2, random_state=519)\n",
    "\n",
    "#2. 모델(모델1)\n",
    "model = RandomForestClassifier()\n",
    "\n",
    "#3. 컴파일ㄴ 훈련ㅇ\n",
    "model.fit(x_train, y_train)\n",
    "\n",
    "#4. 평가(스코어)\n",
    "score_1 = model.score(x_test, y_test)\n",
    "print('feature_names_1: \\n', dataset.feature_names)\n",
    "print('importances_1 : \\n', model.feature_importances_)\n",
    "print('score_1: ', score_1)\n",
    "\n",
    "\n",
    "# 중요도 그래프 그리기(솎기 전)\n",
    "def plot_feature_importances_datasets(model):\n",
    "    n_features = x.shape[1]\n",
    "    plt.barh(np.arange(n_features), model.feature_importances_, align = 'center')\n",
    "    plt.yticks(np.arange(n_features), dataset.feature_names)\n",
    "    plt.xlabel('Feature Importances')\n",
    "    plt.ylabel('Features')\n",
    "    plt.ylim(-1, n_features)\n",
    "\n",
    "plot_feature_importances_datasets(model)\n",
    "plt.show()\n",
    "\n",
    "\n",
    "# 남길 개수 정하고 솎는 함수(수현)\n",
    "def cut_columns(feature_importances, columns, number):\n",
    "    temp = []\n",
    "    for i in feature_importances:\n",
    "        temp.append(i)\n",
    "    temp.sort()                 # 큰 수부터 앞으로 정렬\n",
    "    temp = temp[:number]        # 내가 지정해준 개수만 반환\n",
    "    result = []\n",
    "    for j in temp:\n",
    "        index = feature_importances.tolist().index(j)\n",
    "        result.append(columns[index])       # columns는 feature_names를 지정할 예정\n",
    "    return result\n",
    "\n",
    "# x데이터를 솎은 모델을 만들자(모델2)\n",
    "x2 = pd.DataFrame(dataset.data, columns = dataset.feature_names)\n",
    "# 필요한 만큼만 위의 함수를 이용해 남기기\n",
    "x2.drop(cut_columns(model.feature_importances_, dataset.feature_names, 2), axis=1, inplace=True)\n",
    "# 내가 남긴 것들의 칼럼명 출력\n",
    "print('feature_names_2: \\n',cut_columns(model.feature_importances_, dataset.feature_names, 2))\n",
    "\n",
    "# 모델2를 위한 전처리(x가 x2로 변경, random_state 동일하게 유지)\n",
    "x2_train, x2_test, y_train, y_test = train_test_split(x2.values, y, test_size = 0.2, shuffle=True, random_state= 519)\n",
    "\n",
    "#2. 모델1과 동일\n",
    "model2 = RandomForestClassifier()\n",
    "\n",
    "#3. 컴파일ㄴ 훈련ㅇ\n",
    "model2.fit(x2_train, y_train)\n",
    "\n",
    "#4. 평가(스코어)\n",
    "score_2 = model2.score(x2_test, y_test)\n",
    "print('importances_2 : \\n', model2.feature_importances_)\n",
    "print('score_2: ', score_2)\n",
    "\n",
    "# =========================================================\n",
    "# feature_names_1: \n",
    "#  ['sepal length (cm)', 'sepal width (cm)', 'petal length (cm)', 'petal width (cm)']\n",
    "# importances_1 : \n",
    "#  [0.11173685 0.0211079  0.41552211 0.45163314]\n",
    "# score_1:  0.9333333333333333\n",
    "\n",
    "# feature_names_2: \n",
    "#  ['sepal width (cm)', 'sepal length (cm)']\n",
    "# importances_2 : \n",
    "#  [0.58808145 0.41191855]\n",
    "# score_2:  0.9333333333333333\n",
    "# 큰 차이 없음!\n"
   ]
  }
 ],
 "metadata": {
  "colab": {
   "authorship_tag": "ABX9TyMQd6kCPtHdNZR8mZuSMGYS",
   "collapsed_sections": [],
   "include_colab_link": true,
   "name": "m21_FI_RF1_iris_plus.py",
   "provenance": []
  },
  "kernelspec": {
   "display_name": "Python 3",
   "language": "python",
   "name": "python3"
  }
 },
 "nbformat": 4,
 "nbformat_minor": 1
}
