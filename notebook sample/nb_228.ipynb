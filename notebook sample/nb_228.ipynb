{
 "cells": [
  {
   "cell_type": "code",
   "execution_count": 1,
   "metadata": {},
   "outputs": [
    {
     "name": "stdout",
     "output_type": "stream",
     "text": [
      "enter name of the file: time\n"
     ]
    }
   ],
   "source": [
    "import numpy as np\n",
    "from numpy import loadtxt\n",
    "import pandas as pd\n",
    "from sklearn.kernel_approximation import RBFSampler\n",
    "from sklearn.linear_model import SGDClassifier\n",
    "from sklearn.model_selection import train_test_split\n",
    "from sklearn.neighbors import KNeighborsClassifier\n",
    "from sklearn.tree import DecisionTreeClassifier\n",
    "from sklearn.metrics import (precision_score, recall_score,f1_score, accuracy_score,mean_squared_error,mean_absolute_error)\n",
    "from sklearn.ensemble import RandomForestClassifier\n",
    "\n",
    "file=input(\"enter name of the file: \")\n",
    "traindir=\"datasets/multiclass_train\"\n",
    "testdir=\"datasets/multiclass_test\"\n"
   ]
  },
  {
   "cell_type": "code",
   "execution_count": 2,
   "metadata": {},
   "outputs": [],
   "source": [
    "# load the dataset\n",
    "traindata = pd.read_csv(f\"{traindir}/processed/{file}.csv\")\n",
    "testdata = pd.read_csv(f\"{testdir}/processed/{file}.csv\")\n",
    "n=len(traindata.count())"
   ]
  },
  {
   "cell_type": "code",
   "execution_count": 3,
   "metadata": {},
   "outputs": [],
   "source": [
    "# split into input (X) and output (y) variables\n",
    "X = traindata.iloc[:,0:n-5]\n",
    "y = traindata.iloc[:,n-5:n]\n",
    "X_test = testdata.iloc[:,0:n-5]\n",
    "y_test = testdata.iloc[:,n-5:n]"
   ]
  },
  {
   "cell_type": "code",
   "execution_count": 4,
   "metadata": {},
   "outputs": [
    {
     "name": "stdout",
     "output_type": "stream",
     "text": [
      "---------------------------------------------------------------------------------------\n",
      "-----------------------------------------KNN---------------------------------\n",
      "--- 10.3925621509552 seconds ---\n",
      "KNeighborsClassifier(algorithm='auto', leaf_size=30, metric='minkowski',\n",
      "                     metric_params=None, n_jobs=None, n_neighbors=5, p=2,\n",
      "                     weights='uniform')\n",
      "accuracy\n",
      "0.696\n"
     ]
    }
   ],
   "source": [
    "print(\"---------------------------------------------------------------------------------------\")\n",
    "print(\"-----------------------------------------KNN---------------------------------\")\n",
    "import time \n",
    "start_time = time.time() \n",
    "\n",
    "model = KNeighborsClassifier()\n",
    "model.fit(X, y)\n",
    "print(\"--- %s seconds ---\" % (time.time() - start_time))\n",
    "print(model)\n",
    "\n",
    "# make predictions\n",
    "expected = y_test\n",
    "np.savetxt('classical/expected.txt', expected, fmt='%01d')\n",
    "predicted = model.predict(X_test)\n",
    "\n",
    "y_train1 = expected\n",
    "y_pred = predicted\n",
    "accuracy = accuracy_score(y_train1, y_pred)\n",
    "\n",
    "print(\"accuracy\")\n",
    "print(\"%.3f\" %accuracy)"
   ]
  },
  {
   "cell_type": "code",
   "execution_count": 6,
   "metadata": {
    "scrolled": true
   },
   "outputs": [
    {
     "name": "stdout",
     "output_type": "stream",
     "text": [
      "---------------------------------------------------------------------------------------\n",
      "-----------------------------------------DT---------------------------------\n",
      "--- 0.4644896984100342 seconds ---\n",
      "DecisionTreeClassifier(ccp_alpha=0.0, class_weight=None, criterion='gini',\n",
      "                       max_depth=None, max_features=None, max_leaf_nodes=None,\n",
      "                       min_impurity_decrease=0.0, min_impurity_split=None,\n",
      "                       min_samples_leaf=1, min_samples_split=2,\n",
      "                       min_weight_fraction_leaf=0.0, presort='deprecated',\n",
      "                       random_state=None, splitter='best')\n",
      "accuracy\n",
      "0.693\n"
     ]
    }
   ],
   "source": [
    "print(\"---------------------------------------------------------------------------------------\")\n",
    "print(\"-----------------------------------------DT---------------------------------\")\n",
    "import time \n",
    "start_time = time.time() \n",
    "\n",
    "model = DecisionTreeClassifier()\n",
    "model.fit(X, y)\n",
    "print(\"--- %s seconds ---\" % (time.time() - start_time))\n",
    "print(model)\n",
    "\n",
    "# make predictions\n",
    "expected = y_test\n",
    "np.savetxt('classical/expected.txt', expected, fmt='%01d')\n",
    "predicted = model.predict(X_test)\n",
    "\n",
    "y_train1 = expected\n",
    "y_pred = predicted\n",
    "accuracy = accuracy_score(y_train1, y_pred)\n",
    "\n",
    "print(\"accuracy\")\n",
    "print(\"%.3f\" %accuracy)"
   ]
  },
  {
   "cell_type": "code",
   "execution_count": 7,
   "metadata": {},
   "outputs": [
    {
     "name": "stdout",
     "output_type": "stream",
     "text": [
      "---------------------------------------------------------------------------------------\n",
      "-----------------------------------------RFC---------------------------------\n",
      "--- 18.867319583892822 seconds ---\n",
      "RandomForestClassifier(bootstrap=True, ccp_alpha=0.0, class_weight=None,\n",
      "                       criterion='gini', max_depth=None, max_features='auto',\n",
      "                       max_leaf_nodes=None, max_samples=None,\n",
      "                       min_impurity_decrease=0.0, min_impurity_split=None,\n",
      "                       min_samples_leaf=1, min_samples_split=2,\n",
      "                       min_weight_fraction_leaf=0.0, n_estimators=100,\n",
      "                       n_jobs=None, oob_score=False, random_state=None,\n",
      "                       verbose=0, warm_start=False)\n",
      "accuracy\n",
      "0.695\n"
     ]
    }
   ],
   "source": [
    "print(\"---------------------------------------------------------------------------------------\")\n",
    "print(\"-----------------------------------------RFC---------------------------------\")\n",
    "import time \n",
    "start_time = time.time() \n",
    "\n",
    "model = RandomForestClassifier(n_estimators=100)\n",
    "model = model.fit(X, y)\n",
    "print(\"--- %s seconds ---\" % (time.time() - start_time))\n",
    "print(model)\n",
    "# make predictions\n",
    "expected = y_test\n",
    "np.savetxt('classical/expected.txt', expected, fmt='%01d')\n",
    "predicted = model.predict(X_test)\n",
    "\n",
    "y_train1 = expected\n",
    "y_pred = predicted\n",
    "accuracy = accuracy_score(y_train1, y_pred)\n",
    "\n",
    "print(\"accuracy\")\n",
    "print(\"%.3f\" %accuracy)"
   ]
  },
  {
   "cell_type": "code",
   "execution_count": null,
   "metadata": {},
   "outputs": [],
   "source": []
  }
 ],
 "metadata": {
  "kernelspec": {
   "display_name": "Python 3",
   "language": "python",
   "name": "python3"
  },
  "language_info": {
   "codemirror_mode": {
    "name": "ipython",
    "version": 3
   },
   "file_extension": ".py",
   "mimetype": "text/x-python",
   "name": "python",
   "nbconvert_exporter": "python",
   "pygments_lexer": "ipython3",
   "version": "3.7.3"
  }
 },
 "nbformat": 4,
 "nbformat_minor": 2
}
