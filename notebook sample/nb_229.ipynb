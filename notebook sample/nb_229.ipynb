{
 "cells": [
  {
   "cell_type": "code",
   "execution_count": 1,
   "metadata": {},
   "outputs": [
    {
     "name": "stderr",
     "output_type": "stream",
     "text": [
      "Using TensorFlow backend.\n"
     ]
    },
    {
     "name": "stdout",
     "output_type": "stream",
     "text": [
      "no of attributes are 48\n"
     ]
    }
   ],
   "source": [
    "from __future__ import print_function\n",
    "from sklearn.model_selection import train_test_split\n",
    "import pandas as pd\n",
    "import numpy as np\n",
    "np.random.seed(1337)  # for reproducibility\n",
    "from keras.preprocessing import sequence\n",
    "from keras.utils import np_utils\n",
    "from keras.models import Sequential\n",
    "from keras.layers import Dense, Dropout, Activation, Embedding\n",
    "from keras.layers import LSTM, SimpleRNN, GRU\n",
    "from keras.datasets import imdb\n",
    "from keras.utils.np_utils import to_categorical\n",
    "from sklearn.metrics import (precision_score, recall_score,f1_score, accuracy_score,mean_squared_error,mean_absolute_error)\n",
    "from sklearn import metrics\n",
    "from sklearn.preprocessing import Normalizer\n",
    "import h5py\n",
    "from keras import callbacks\n",
    "from keras.callbacks import ModelCheckpoint, EarlyStopping, ReduceLROnPlateau, CSVLogger\n",
    "\n",
    "\n",
    "file=\"all\"\n",
    "traindir=\"datasets/multiclass_train\"\n",
    "testdir=\"datasets/multiclass_test\"\n",
    "\n",
    "traindata = pd.read_csv(f\"{traindir}/processed/{file}.csv\")\n",
    "testdata = pd.read_csv(f\"{testdir}/processed/{file}.csv\")\n",
    "testdata\n",
    "traindata\n",
    "n=len(traindata.count())\n",
    "print(f\"no of attributes are {n}\")"
   ]
  },
  {
   "cell_type": "code",
   "execution_count": 3,
   "metadata": {},
   "outputs": [
    {
     "data": {
      "text/plain": [
       "(125973, 5)"
      ]
     },
     "execution_count": 3,
     "metadata": {},
     "output_type": "execute_result"
    }
   ],
   "source": [
    "X = traindata.iloc[:,0:n-5]\n",
    "Y = traindata.iloc[:,n-5:n]\n",
    "C = testdata.iloc[:,0:n-5]\n",
    "T = testdata.iloc[:,n-5:n]\n",
    "Y.shape"
   ]
  },
  {
   "cell_type": "code",
   "execution_count": 4,
   "metadata": {},
   "outputs": [],
   "source": [
    "# 1. define the network\n",
    "model = Sequential()\n",
    "model.add(Dense(32,input_dim=n-5,activation='relu'))\n",
    "model.add(Dropout(0.01))\n",
    "model.add(Dense(24,activation='relu'))\n",
    "model.add(Dropout(0.01))\n",
    "model.add(Dense(5, activation='softmax'))"
   ]
  },
  {
   "cell_type": "code",
   "execution_count": 5,
   "metadata": {},
   "outputs": [
    {
     "name": "stdout",
     "output_type": "stream",
     "text": [
      "Train on 100778 samples, validate on 25195 samples\n",
      "Epoch 1/100\n",
      "100778/100778 [==============================] - 1s 6us/step - loss: 1.4555 - accuracy: 0.5041 - val_loss: 1.1426 - val_accuracy: 0.8706\n",
      "Epoch 2/100\n",
      "100778/100778 [==============================] - 0s 3us/step - loss: 0.9109 - accuracy: 0.8694 - val_loss: 0.6705 - val_accuracy: 0.8680\n",
      "Epoch 3/100\n",
      "100778/100778 [==============================] - 0s 3us/step - loss: 0.5390 - accuracy: 0.8675 - val_loss: 0.4209 - val_accuracy: 0.8683\n",
      "Epoch 4/100\n",
      "100778/100778 [==============================] - 0s 3us/step - loss: 0.3685 - accuracy: 0.8793 - val_loss: 0.3084 - val_accuracy: 0.9065\n",
      "Epoch 5/100\n",
      "100778/100778 [==============================] - 0s 3us/step - loss: 0.2783 - accuracy: 0.9181 - val_loss: 0.2390 - val_accuracy: 0.9263\n",
      "Epoch 6/100\n",
      "100778/100778 [==============================] - ETA: 0s - loss: 0.2256 - accuracy: 0.94 - 0s 3us/step - loss: 0.2227 - accuracy: 0.9420 - val_loss: 0.1982 - val_accuracy: 0.9529\n",
      "Epoch 7/100\n",
      "100778/100778 [==============================] - 0s 3us/step - loss: 0.1905 - accuracy: 0.9545 - val_loss: 0.1740 - val_accuracy: 0.9596\n",
      "Epoch 8/100\n",
      "100778/100778 [==============================] - 0s 4us/step - loss: 0.1700 - accuracy: 0.9609 - val_loss: 0.1581 - val_accuracy: 0.9654\n",
      "Epoch 9/100\n",
      "100778/100778 [==============================] - 0s 3us/step - loss: 0.1560 - accuracy: 0.9642 - val_loss: 0.1453 - val_accuracy: 0.9673\n",
      "Epoch 10/100\n",
      "100778/100778 [==============================] - 0s 3us/step - loss: 0.1442 - accuracy: 0.9668 - val_loss: 0.1346 - val_accuracy: 0.9698\n",
      "Epoch 11/100\n",
      "100778/100778 [==============================] - 0s 3us/step - loss: 0.1338 - accuracy: 0.9684 - val_loss: 0.1253 - val_accuracy: 0.9705\n",
      "Epoch 12/100\n",
      "100778/100778 [==============================] - 0s 3us/step - loss: 0.1255 - accuracy: 0.9693 - val_loss: 0.1172 - val_accuracy: 0.9720\n",
      "Epoch 13/100\n",
      "100778/100778 [==============================] - 0s 3us/step - loss: 0.1179 - accuracy: 0.9703 - val_loss: 0.1100 - val_accuracy: 0.9716\n",
      "Epoch 14/100\n",
      "100778/100778 [==============================] - 0s 3us/step - loss: 0.1111 - accuracy: 0.9703 - val_loss: 0.1034 - val_accuracy: 0.9723\n",
      "Epoch 15/100\n",
      "100778/100778 [==============================] - 0s 3us/step - loss: 0.1048 - accuracy: 0.9712 - val_loss: 0.0977 - val_accuracy: 0.9727\n",
      "Epoch 16/100\n",
      "100778/100778 [==============================] - 0s 3us/step - loss: 0.0990 - accuracy: 0.9715 - val_loss: 0.0927 - val_accuracy: 0.9737\n",
      "Epoch 17/100\n",
      "100778/100778 [==============================] - 0s 3us/step - loss: 0.0945 - accuracy: 0.9721 - val_loss: 0.0879 - val_accuracy: 0.9739\n",
      "Epoch 18/100\n",
      "100778/100778 [==============================] - 0s 3us/step - loss: 0.0897 - accuracy: 0.9727 - val_loss: 0.0838 - val_accuracy: 0.9757\n",
      "Epoch 19/100\n",
      "100778/100778 [==============================] - 0s 3us/step - loss: 0.0856 - accuracy: 0.9732 - val_loss: 0.0798 - val_accuracy: 0.9758\n",
      "Epoch 20/100\n",
      "100778/100778 [==============================] - 0s 3us/step - loss: 0.0817 - accuracy: 0.9735 - val_loss: 0.0761 - val_accuracy: 0.9749\n",
      "Epoch 21/100\n",
      "100778/100778 [==============================] - 0s 3us/step - loss: 0.0783 - accuracy: 0.9748 - val_loss: 0.0727 - val_accuracy: 0.9759\n",
      "Epoch 22/100\n",
      "100778/100778 [==============================] - 0s 3us/step - loss: 0.0752 - accuracy: 0.9749 - val_loss: 0.0696 - val_accuracy: 0.9779\n",
      "Epoch 23/100\n",
      "100778/100778 [==============================] - 0s 3us/step - loss: 0.0722 - accuracy: 0.9756 - val_loss: 0.0669 - val_accuracy: 0.9778\n",
      "Epoch 24/100\n",
      "100778/100778 [==============================] - 0s 4us/step - loss: 0.0694 - accuracy: 0.9762 - val_loss: 0.0644 - val_accuracy: 0.9781\n",
      "Epoch 25/100\n",
      "100778/100778 [==============================] - 0s 4us/step - loss: 0.0665 - accuracy: 0.9772 - val_loss: 0.0621 - val_accuracy: 0.9790\n",
      "Epoch 26/100\n",
      "100778/100778 [==============================] - 0s 4us/step - loss: 0.0647 - accuracy: 0.9778 - val_loss: 0.0601 - val_accuracy: 0.9798\n",
      "Epoch 27/100\n",
      "100778/100778 [==============================] - 0s 4us/step - loss: 0.0626 - accuracy: 0.9783 - val_loss: 0.0584 - val_accuracy: 0.9804\n",
      "Epoch 28/100\n",
      "100778/100778 [==============================] - 0s 3us/step - loss: 0.0608 - accuracy: 0.9788 - val_loss: 0.0569 - val_accuracy: 0.9817\n",
      "Epoch 29/100\n",
      "100778/100778 [==============================] - 0s 4us/step - loss: 0.0594 - accuracy: 0.9803 - val_loss: 0.0554 - val_accuracy: 0.9825\n",
      "Epoch 30/100\n",
      "100778/100778 [==============================] - 0s 3us/step - loss: 0.0578 - accuracy: 0.9813 - val_loss: 0.0540 - val_accuracy: 0.9839\n",
      "Epoch 31/100\n",
      "100778/100778 [==============================] - 0s 4us/step - loss: 0.0564 - accuracy: 0.9813 - val_loss: 0.0531 - val_accuracy: 0.9827\n",
      "Epoch 32/100\n",
      "100778/100778 [==============================] - 0s 4us/step - loss: 0.0555 - accuracy: 0.9818 - val_loss: 0.0519 - val_accuracy: 0.9844\n",
      "Epoch 33/100\n",
      "100778/100778 [==============================] - 1s 5us/step - loss: 0.0548 - accuracy: 0.9822 - val_loss: 0.0509 - val_accuracy: 0.9846\n",
      "Epoch 34/100\n",
      "100778/100778 [==============================] - 1s 6us/step - loss: 0.0537 - accuracy: 0.9828 - val_loss: 0.0500 - val_accuracy: 0.9854\n",
      "Epoch 35/100\n",
      "100778/100778 [==============================] - 0s 4us/step - loss: 0.0530 - accuracy: 0.9830 - val_loss: 0.0493 - val_accuracy: 0.9853\n",
      "Epoch 36/100\n",
      "100778/100778 [==============================] - 0s 4us/step - loss: 0.0521 - accuracy: 0.9833 - val_loss: 0.0488 - val_accuracy: 0.9845\n",
      "Epoch 37/100\n",
      "100778/100778 [==============================] - 0s 4us/step - loss: 0.0510 - accuracy: 0.9834 - val_loss: 0.0477 - val_accuracy: 0.9861\n",
      "Epoch 38/100\n",
      "100778/100778 [==============================] - 0s 3us/step - loss: 0.0499 - accuracy: 0.9838 - val_loss: 0.0469 - val_accuracy: 0.9856\n",
      "Epoch 39/100\n",
      "100778/100778 [==============================] - 0s 3us/step - loss: 0.0489 - accuracy: 0.9842 - val_loss: 0.0462 - val_accuracy: 0.9860\n",
      "Epoch 40/100\n",
      "100778/100778 [==============================] - 0s 3us/step - loss: 0.0489 - accuracy: 0.9841 - val_loss: 0.0455 - val_accuracy: 0.9867\n",
      "Epoch 41/100\n",
      "100778/100778 [==============================] - 0s 3us/step - loss: 0.0484 - accuracy: 0.9843 - val_loss: 0.0452 - val_accuracy: 0.9856\n",
      "Epoch 42/100\n",
      "100778/100778 [==============================] - 0s 3us/step - loss: 0.0475 - accuracy: 0.9845 - val_loss: 0.0442 - val_accuracy: 0.9871\n",
      "Epoch 43/100\n",
      "100778/100778 [==============================] - 0s 3us/step - loss: 0.0467 - accuracy: 0.9847 - val_loss: 0.0436 - val_accuracy: 0.9868\n",
      "Epoch 44/100\n",
      "100778/100778 [==============================] - 0s 3us/step - loss: 0.0460 - accuracy: 0.9849 - val_loss: 0.0432 - val_accuracy: 0.9867\n",
      "Epoch 45/100\n",
      "100778/100778 [==============================] - 0s 3us/step - loss: 0.0460 - accuracy: 0.9849 - val_loss: 0.0425 - val_accuracy: 0.9868\n",
      "Epoch 46/100\n",
      "100778/100778 [==============================] - 0s 3us/step - loss: 0.0446 - accuracy: 0.9855 - val_loss: 0.0418 - val_accuracy: 0.9879\n",
      "Epoch 47/100\n",
      "100778/100778 [==============================] - 0s 3us/step - loss: 0.0447 - accuracy: 0.9855 - val_loss: 0.0416 - val_accuracy: 0.9872\n",
      "Epoch 48/100\n",
      "100778/100778 [==============================] - 0s 3us/step - loss: 0.0443 - accuracy: 0.9854 - val_loss: 0.0410 - val_accuracy: 0.9872\n",
      "Epoch 49/100\n",
      "100778/100778 [==============================] - 0s 3us/step - loss: 0.0443 - accuracy: 0.9855 - val_loss: 0.0402 - val_accuracy: 0.9882\n",
      "Epoch 50/100\n",
      "100778/100778 [==============================] - 0s 3us/step - loss: 0.0425 - accuracy: 0.9861 - val_loss: 0.0398 - val_accuracy: 0.9880\n",
      "Epoch 51/100\n",
      "100778/100778 [==============================] - 0s 3us/step - loss: 0.0421 - accuracy: 0.9863 - val_loss: 0.0392 - val_accuracy: 0.9886\n",
      "Epoch 52/100\n",
      "100778/100778 [==============================] - 0s 3us/step - loss: 0.0415 - accuracy: 0.9868 - val_loss: 0.0388 - val_accuracy: 0.9888\n",
      "Epoch 53/100\n",
      "100778/100778 [==============================] - 0s 3us/step - loss: 0.0413 - accuracy: 0.9865 - val_loss: 0.0384 - val_accuracy: 0.9879\n",
      "Epoch 54/100\n",
      "100778/100778 [==============================] - 0s 3us/step - loss: 0.0412 - accuracy: 0.9865 - val_loss: 0.0377 - val_accuracy: 0.9885\n",
      "Epoch 55/100\n"
     ]
    },
    {
     "name": "stdout",
     "output_type": "stream",
     "text": [
      "100778/100778 [==============================] - 0s 4us/step - loss: 0.0404 - accuracy: 0.9871 - val_loss: 0.0373 - val_accuracy: 0.9888\n",
      "Epoch 56/100\n",
      "100778/100778 [==============================] - 0s 3us/step - loss: 0.0404 - accuracy: 0.9869 - val_loss: 0.0368 - val_accuracy: 0.9892\n",
      "Epoch 57/100\n",
      "100778/100778 [==============================] - 0s 3us/step - loss: 0.0397 - accuracy: 0.9869 - val_loss: 0.0363 - val_accuracy: 0.9894\n",
      "Epoch 58/100\n",
      "100778/100778 [==============================] - 0s 4us/step - loss: 0.0385 - accuracy: 0.9875 - val_loss: 0.0360 - val_accuracy: 0.9893\n",
      "Epoch 59/100\n",
      "100778/100778 [==============================] - 0s 3us/step - loss: 0.0389 - accuracy: 0.9873 - val_loss: 0.0358 - val_accuracy: 0.9889\n",
      "Epoch 60/100\n",
      "100778/100778 [==============================] - 0s 4us/step - loss: 0.0383 - accuracy: 0.9873 - val_loss: 0.0352 - val_accuracy: 0.9897\n",
      "Epoch 61/100\n",
      "100778/100778 [==============================] - 0s 4us/step - loss: 0.0376 - accuracy: 0.9880 - val_loss: 0.0350 - val_accuracy: 0.9890\n",
      "Epoch 62/100\n",
      "100778/100778 [==============================] - 0s 4us/step - loss: 0.0370 - accuracy: 0.9881 - val_loss: 0.0344 - val_accuracy: 0.9900\n",
      "Epoch 63/100\n",
      "100778/100778 [==============================] - 0s 4us/step - loss: 0.0368 - accuracy: 0.9882 - val_loss: 0.0342 - val_accuracy: 0.9898\n",
      "Epoch 64/100\n",
      "100778/100778 [==============================] - 0s 3us/step - loss: 0.0364 - accuracy: 0.9882 - val_loss: 0.0336 - val_accuracy: 0.9900\n",
      "Epoch 65/100\n",
      "100778/100778 [==============================] - 0s 3us/step - loss: 0.0363 - accuracy: 0.9882 - val_loss: 0.0333 - val_accuracy: 0.9899\n",
      "Epoch 66/100\n",
      "100778/100778 [==============================] - 0s 3us/step - loss: 0.0357 - accuracy: 0.9885 - val_loss: 0.0332 - val_accuracy: 0.9900\n",
      "Epoch 67/100\n",
      "100778/100778 [==============================] - 0s 4us/step - loss: 0.0356 - accuracy: 0.9888 - val_loss: 0.0328 - val_accuracy: 0.9900\n",
      "Epoch 68/100\n",
      "100778/100778 [==============================] - 0s 4us/step - loss: 0.0349 - accuracy: 0.9889 - val_loss: 0.0324 - val_accuracy: 0.9906\n",
      "Epoch 69/100\n",
      "100778/100778 [==============================] - 0s 3us/step - loss: 0.0345 - accuracy: 0.9888 - val_loss: 0.0324 - val_accuracy: 0.9902\n",
      "Epoch 70/100\n",
      "100778/100778 [==============================] - 0s 3us/step - loss: 0.0343 - accuracy: 0.9890 - val_loss: 0.0318 - val_accuracy: 0.9907\n",
      "Epoch 71/100\n",
      "100778/100778 [==============================] - 0s 3us/step - loss: 0.0338 - accuracy: 0.9892 - val_loss: 0.0315 - val_accuracy: 0.9909\n",
      "Epoch 72/100\n",
      "100778/100778 [==============================] - 0s 3us/step - loss: 0.0341 - accuracy: 0.9894 - val_loss: 0.0310 - val_accuracy: 0.9913\n",
      "Epoch 73/100\n",
      "100778/100778 [==============================] - 0s 3us/step - loss: 0.0335 - accuracy: 0.9892 - val_loss: 0.0308 - val_accuracy: 0.9911\n",
      "Epoch 74/100\n",
      "100778/100778 [==============================] - 0s 3us/step - loss: 0.0330 - accuracy: 0.9895 - val_loss: 0.0305 - val_accuracy: 0.9911\n",
      "Epoch 75/100\n",
      "100778/100778 [==============================] - 0s 3us/step - loss: 0.0326 - accuracy: 0.9897 - val_loss: 0.0301 - val_accuracy: 0.9915\n",
      "Epoch 76/100\n",
      "100778/100778 [==============================] - 0s 3us/step - loss: 0.0326 - accuracy: 0.9896 - val_loss: 0.0299 - val_accuracy: 0.9918\n",
      "Epoch 77/100\n",
      "100778/100778 [==============================] - 0s 3us/step - loss: 0.0318 - accuracy: 0.9899 - val_loss: 0.0298 - val_accuracy: 0.9912\n",
      "Epoch 78/100\n",
      "100778/100778 [==============================] - 0s 3us/step - loss: 0.0317 - accuracy: 0.9900 - val_loss: 0.0295 - val_accuracy: 0.9920\n",
      "Epoch 79/100\n",
      "100778/100778 [==============================] - 0s 3us/step - loss: 0.0313 - accuracy: 0.9900 - val_loss: 0.0291 - val_accuracy: 0.9923\n",
      "Epoch 80/100\n",
      "100778/100778 [==============================] - 0s 3us/step - loss: 0.0311 - accuracy: 0.9903 - val_loss: 0.0289 - val_accuracy: 0.9924\n",
      "Epoch 81/100\n",
      "100778/100778 [==============================] - 0s 3us/step - loss: 0.0314 - accuracy: 0.9898 - val_loss: 0.0288 - val_accuracy: 0.9923\n",
      "Epoch 82/100\n",
      "100778/100778 [==============================] - 0s 3us/step - loss: 0.0307 - accuracy: 0.9905 - val_loss: 0.0287 - val_accuracy: 0.9921\n",
      "Epoch 83/100\n",
      "100778/100778 [==============================] - 0s 3us/step - loss: 0.0308 - accuracy: 0.9900 - val_loss: 0.0283 - val_accuracy: 0.9921\n",
      "Epoch 84/100\n",
      "100778/100778 [==============================] - 0s 3us/step - loss: 0.0304 - accuracy: 0.9905 - val_loss: 0.0282 - val_accuracy: 0.9922\n",
      "Epoch 85/100\n",
      "100778/100778 [==============================] - 0s 3us/step - loss: 0.0299 - accuracy: 0.9905 - val_loss: 0.0282 - val_accuracy: 0.9921\n",
      "Epoch 86/100\n",
      "100778/100778 [==============================] - 0s 3us/step - loss: 0.0299 - accuracy: 0.9906 - val_loss: 0.0278 - val_accuracy: 0.9921\n",
      "Epoch 87/100\n",
      "100778/100778 [==============================] - 0s 3us/step - loss: 0.0300 - accuracy: 0.9905 - val_loss: 0.0278 - val_accuracy: 0.9923\n",
      "Epoch 88/100\n",
      "100778/100778 [==============================] - 0s 3us/step - loss: 0.0295 - accuracy: 0.9908 - val_loss: 0.0273 - val_accuracy: 0.9927\n",
      "Epoch 89/100\n",
      "100778/100778 [==============================] - 0s 3us/step - loss: 0.0295 - accuracy: 0.9910 - val_loss: 0.0272 - val_accuracy: 0.9925\n",
      "Epoch 90/100\n",
      "100778/100778 [==============================] - 0s 3us/step - loss: 0.0291 - accuracy: 0.9909 - val_loss: 0.0271 - val_accuracy: 0.9923\n",
      "Epoch 91/100\n",
      "100778/100778 [==============================] - 0s 3us/step - loss: 0.0284 - accuracy: 0.9911 - val_loss: 0.0267 - val_accuracy: 0.9923\n",
      "Epoch 92/100\n",
      "100778/100778 [==============================] - 0s 3us/step - loss: 0.0286 - accuracy: 0.9911 - val_loss: 0.0265 - val_accuracy: 0.9927\n",
      "Epoch 93/100\n",
      "100778/100778 [==============================] - 0s 3us/step - loss: 0.0285 - accuracy: 0.9910 - val_loss: 0.0266 - val_accuracy: 0.9922\n",
      "Epoch 94/100\n",
      "100778/100778 [==============================] - 0s 3us/step - loss: 0.0283 - accuracy: 0.9910 - val_loss: 0.0262 - val_accuracy: 0.9925\n",
      "Epoch 95/100\n",
      "100778/100778 [==============================] - 0s 3us/step - loss: 0.0280 - accuracy: 0.9913 - val_loss: 0.0262 - val_accuracy: 0.9927\n",
      "Epoch 96/100\n",
      "100778/100778 [==============================] - 0s 3us/step - loss: 0.0277 - accuracy: 0.9915 - val_loss: 0.0259 - val_accuracy: 0.9925\n",
      "Epoch 97/100\n",
      "100778/100778 [==============================] - 0s 3us/step - loss: 0.0276 - accuracy: 0.9913 - val_loss: 0.0257 - val_accuracy: 0.9931\n",
      "Epoch 98/100\n",
      "100778/100778 [==============================] - 0s 3us/step - loss: 0.0270 - accuracy: 0.9916 - val_loss: 0.0256 - val_accuracy: 0.9927\n",
      "Epoch 99/100\n",
      "100778/100778 [==============================] - 0s 3us/step - loss: 0.0273 - accuracy: 0.9913 - val_loss: 0.0254 - val_accuracy: 0.9929\n",
      "Epoch 100/100\n",
      "100778/100778 [==============================] - 0s 3us/step - loss: 0.0273 - accuracy: 0.9915 - val_loss: 0.0253 - val_accuracy: 0.9932\n"
     ]
    }
   ],
   "source": [
    "# try using different optimizers and different optimizer configs\n",
    "model.compile(loss='categorical_crossentropy',optimizer='adam',metrics=['accuracy'])\n",
    "\n",
    "history = model.fit(X, Y,batch_size=4000,epochs=100,validation_split=0.2)\n",
    "\n",
    "model.save(f\"{testdir}/processed/{file}.hdf5\")\n",
    "\n",
    "import dill as pickle\n",
    "with open('history', 'wb') as file_pi:\n",
    "    pickle.dump(f\"{testdir}/processed/{file}.history\", file_pi)"
   ]
  },
  {
   "cell_type": "code",
   "execution_count": 6,
   "metadata": {},
   "outputs": [
    {
     "name": "stdout",
     "output_type": "stream",
     "text": [
      "22542/22542 [==============================] - 0s 14us/step\n",
      "Accuracy: 74.80\n"
     ]
    }
   ],
   "source": [
    "\n",
    "import tensorflow as tf\n",
    "C = testdata.iloc[:,0:n-5]\n",
    "T = testdata.iloc[:,n-5:n]\n",
    "_, accuracy = model.evaluate(C,T)\n",
    "print('Accuracy: %.2f' % (accuracy*100))\n",
    "prediction=model.predict_classes(C)\n"
   ]
  },
  {
   "cell_type": "code",
   "execution_count": 7,
   "metadata": {},
   "outputs": [
    {
     "data": {
      "image/png": "[encoded data removed]",
      "text/plain": [
       "<Figure size 432x288 with 1 Axes>"
      ]
     },
     "metadata": {
      "needs_background": "light"
     },
     "output_type": "display_data"
    }
   ],
   "source": [
    "import matplotlib.pyplot as plt\n",
    "plt.plot(history.history['accuracy'])\n",
    "plt.plot(history.history['val_accuracy'])\n",
    "plt.title('model accuracy')\n",
    "plt.ylabel('accuracy')\n",
    "plt.xlabel('epoch')\n",
    "plt.legend(['train', 'test'], loc='upper left')\n",
    "plt.show()"
   ]
  },
  {
   "cell_type": "code",
   "execution_count": 8,
   "metadata": {
    "scrolled": true
   },
   "outputs": [
    {
     "data": {
      "image/png": "[encoded data removed]",
      "text/plain": [
       "<Figure size 432x288 with 1 Axes>"
      ]
     },
     "metadata": {
      "needs_background": "light"
     },
     "output_type": "display_data"
    }
   ],
   "source": [
    "# summarize history for loss\n",
    "plt.plot(history.history['loss'])\n",
    "plt.plot(history.history['val_loss'])\n",
    "plt.title('model loss')\n",
    "plt.ylabel('loss')\n",
    "plt.xlabel('epoch')\n",
    "plt.legend(['train', 'test'], loc='upper left')\n",
    "plt.show()"
   ]
  },
  {
   "cell_type": "code",
   "execution_count": 9,
   "metadata": {},
   "outputs": [
    {
     "name": "stdout",
     "output_type": "stream",
     "text": [
      "[[1. 0. 0. 0. 0.]]\n",
      "(22542, 5)\n"
     ]
    },
    {
     "data": {
      "text/plain": [
       "array([[1., 0., 0., 0., 0.],\n",
       "       [0., 1., 0., 0., 0.],\n",
       "       [0., 0., 1., 0., 0.],\n",
       "       ...,\n",
       "       [1., 0., 0., 0., 0.],\n",
       "       [0., 1., 0., 0., 0.],\n",
       "       [0., 0., 1., 0., 0.]], dtype=float32)"
      ]
     },
     "execution_count": 9,
     "metadata": {},
     "output_type": "execute_result"
    }
   ],
   "source": [
    "p=model.predict(C[0:1])\n",
    "p=np.rint(p)\n",
    "\n",
    "print(p)\n",
    "print(T.shape)\n",
    "rounded_labels=np.argmax(T.to_numpy(),axis=1)\n",
    "prediction=model.predict(C)\n",
    "prediction=np.rint(prediction)\n",
    "prediction"
   ]
  },
  {
   "cell_type": "code",
   "execution_count": 10,
   "metadata": {},
   "outputs": [
    {
     "data": {
      "text/plain": [
       "array([[[14854,   229],\n",
       "        [ 1806,  5653]],\n",
       "\n",
       "       [[ 7746,  5086],\n",
       "        [  235,  9475]],\n",
       "\n",
       "       [[19788,   333],\n",
       "        [  713,  1708]],\n",
       "\n",
       "       [[19642,    15],\n",
       "        [ 2873,    12]],\n",
       "\n",
       "       [[22474,     1],\n",
       "        [   66,     1]]], dtype=int64)"
      ]
     },
     "execution_count": 10,
     "metadata": {},
     "output_type": "execute_result"
    }
   ],
   "source": [
    "from sklearn.metrics import multilabel_confusion_matrix\n",
    "prediction=np.rint(prediction)\n",
    "original_value=np.rint(T)\n",
    "cm=multilabel_confusion_matrix(original_value, prediction)\n",
    "cm"
   ]
  }
 ],
 "metadata": {
  "kernelspec": {
   "display_name": "Python 3",
   "language": "python",
   "name": "python3"
  },
  "language_info": {
   "codemirror_mode": {
    "name": "ipython",
    "version": 3
   },
   "file_extension": ".py",
   "mimetype": "text/x-python",
   "name": "python",
   "nbconvert_exporter": "python",
   "pygments_lexer": "ipython3",
   "version": "3.7.3"
  }
 },
 "nbformat": 4,
 "nbformat_minor": 2
}
