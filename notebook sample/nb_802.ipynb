{
 "cells": [
  {
   "cell_type": "code",
   "execution_count": 1,
   "metadata": {},
   "outputs": [],
   "source": [
    "# importing important libraries\n",
    "import pandas as pd\n",
    "from tensorflow.keras.models import Sequential\n",
    "from tensorflow.keras.layers import Dense, Activation, Flatten\n",
    "from tensorflow.keras import optimizers\n",
    "import matplotlib.pyplot as plt\n",
    "import seaborn as sns\n",
    "from tensorflow.keras.metrics import AUC, Precision, Recall\n",
    "import tensorflow as tf\n",
    "from sklearn.linear_model import LinearRegression\n",
    "from sklearn.externals import joblib\n",
    "from sklearn.model_selection import train_test_split\n",
    "from sklearn.tree import DecisionTreeRegressor\n",
    "from sklearn.preprocessing import StandardScaler\n",
    "import numpy as np"
   ]
  },
  {
   "cell_type": "code",
   "execution_count": 2,
   "metadata": {},
   "outputs": [
    {
     "data": {
      "text/plain": [
       "(10621, 11)"
      ]
     },
     "execution_count": 2,
     "metadata": {},
     "output_type": "execute_result"
    }
   ],
   "source": [
    "# loading dataset and cleaning\n",
    "raw_data = pd.read_csv('dcom/signal_data.csv')\n",
    "data = raw_data[ abs(raw_data['input_data'] - raw_data['output_data']) <= 10]\n",
    "data.to_csv('dcom/signal_data_updated.csv')\n",
    "data.shape"
   ]
  },
  {
   "cell_type": "code",
   "execution_count": 3,
   "metadata": {},
   "outputs": [
    {
     "data": {
      "text/html": [
       "<div>\n",
       "<style scoped>\n",
       "    .dataframe tbody tr th:only-of-type {\n",
       "        vertical-align: middle;\n",
       "    }\n",
       "\n",
       "    .dataframe tbody tr th {\n",
       "        vertical-align: top;\n",
       "    }\n",
       "\n",
       "    .dataframe thead th {\n",
       "        text-align: right;\n",
       "    }\n",
       "</style>\n",
       "<table border=\"1\" class=\"dataframe\">\n",
       "  <thead>\n",
       "    <tr style=\"text-align: right;\">\n",
       "      <th></th>\n",
       "      <th>Unnamed: 0</th>\n",
       "      <th>input_data</th>\n",
       "      <th>output_data</th>\n",
       "      <th>received_data_real</th>\n",
       "      <th>received_data_imag</th>\n",
       "      <th>transmitted_data_real</th>\n",
       "      <th>transmitted_data_imag</th>\n",
       "      <th>encoded_data_real</th>\n",
       "      <th>encoded_data_imag</th>\n",
       "      <th>decoded_data_real</th>\n",
       "      <th>decoded_data_imag</th>\n",
       "    </tr>\n",
       "  </thead>\n",
       "  <tbody>\n",
       "    <tr>\n",
       "      <th>0</th>\n",
       "      <td>0</td>\n",
       "      <td>0</td>\n",
       "      <td>0</td>\n",
       "      <td>0.000000</td>\n",
       "      <td>0.000000</td>\n",
       "      <td>0.000000</td>\n",
       "      <td>0.000000</td>\n",
       "      <td>0.000000</td>\n",
       "      <td>0.000000</td>\n",
       "      <td>0.000000</td>\n",
       "      <td>0.000000</td>\n",
       "    </tr>\n",
       "    <tr>\n",
       "      <th>27</th>\n",
       "      <td>27</td>\n",
       "      <td>250</td>\n",
       "      <td>247</td>\n",
       "      <td>0.663894</td>\n",
       "      <td>-0.013224</td>\n",
       "      <td>0.361498</td>\n",
       "      <td>0.370355</td>\n",
       "      <td>-1.414214</td>\n",
       "      <td>-1.414214</td>\n",
       "      <td>1.414214</td>\n",
       "      <td>1.414214</td>\n",
       "    </tr>\n",
       "    <tr>\n",
       "      <th>63</th>\n",
       "      <td>63</td>\n",
       "      <td>106</td>\n",
       "      <td>107</td>\n",
       "      <td>0.827796</td>\n",
       "      <td>0.371415</td>\n",
       "      <td>-0.148441</td>\n",
       "      <td>0.622365</td>\n",
       "      <td>-1.414214</td>\n",
       "      <td>-1.414214</td>\n",
       "      <td>1.414214</td>\n",
       "      <td>-1.414214</td>\n",
       "    </tr>\n",
       "    <tr>\n",
       "      <th>66</th>\n",
       "      <td>66</td>\n",
       "      <td>199</td>\n",
       "      <td>208</td>\n",
       "      <td>0.361152</td>\n",
       "      <td>-0.112456</td>\n",
       "      <td>-0.569406</td>\n",
       "      <td>0.648922</td>\n",
       "      <td>1.414214</td>\n",
       "      <td>1.414214</td>\n",
       "      <td>1.414214</td>\n",
       "      <td>1.414214</td>\n",
       "    </tr>\n",
       "    <tr>\n",
       "      <th>80</th>\n",
       "      <td>80</td>\n",
       "      <td>39</td>\n",
       "      <td>49</td>\n",
       "      <td>-0.418070</td>\n",
       "      <td>0.866829</td>\n",
       "      <td>0.021619</td>\n",
       "      <td>-0.094309</td>\n",
       "      <td>-1.414214</td>\n",
       "      <td>-1.414214</td>\n",
       "      <td>-1.414214</td>\n",
       "      <td>-1.414214</td>\n",
       "    </tr>\n",
       "  </tbody>\n",
       "</table>\n",
       "</div>"
      ],
      "text/plain": [
       "    Unnamed: 0  input_data  output_data  received_data_real  \\\n",
       "0            0           0            0            0.000000   \n",
       "27          27         250          247            0.663894   \n",
       "63          63         106          107            0.827796   \n",
       "66          66         199          208            0.361152   \n",
       "80          80          39           49           -0.418070   \n",
       "\n",
       "    received_data_imag  transmitted_data_real  transmitted_data_imag  \\\n",
       "0             0.000000               0.000000               0.000000   \n",
       "27           -0.013224               0.361498               0.370355   \n",
       "63            0.371415              -0.148441               0.622365   \n",
       "66           -0.112456              -0.569406               0.648922   \n",
       "80            0.866829               0.021619              -0.094309   \n",
       "\n",
       "    encoded_data_real  encoded_data_imag  decoded_data_real  decoded_data_imag  \n",
       "0            0.000000           0.000000           0.000000           0.000000  \n",
       "27          -1.414214          -1.414214           1.414214           1.414214  \n",
       "63          -1.414214          -1.414214           1.414214          -1.414214  \n",
       "66           1.414214           1.414214           1.414214           1.414214  \n",
       "80          -1.414214          -1.414214          -1.414214          -1.414214  "
      ]
     },
     "execution_count": 3,
     "metadata": {},
     "output_type": "execute_result"
    }
   ],
   "source": [
    "data.head()"
   ]
  },
  {
   "cell_type": "code",
   "execution_count": 4,
   "metadata": {},
   "outputs": [
    {
     "name": "stderr",
     "output_type": "stream",
     "text": [
      "C:\\Users\\Kaustubh\\Anaconda3\\lib\\site-packages\\ipykernel_launcher.py:17: SettingWithCopyWarning: \n",
      "A value is trying to be set on a copy of a slice from a DataFrame.\n",
      "Try using .loc[row_indexer,col_indexer] = value instead\n",
      "\n",
      "See the caveats in the documentation: https://pandas.pydata.org/pandas-docs/stable/user_guide/indexing.html#returning-a-view-versus-a-copy\n"
     ]
    }
   ],
   "source": [
    "# splitting data into X and y and pre-processing\n",
    "X = data[['input_data',\n",
    "          'received_data_real',\n",
    "          'received_data_imag',\n",
    "          'transmitted_data_real',\n",
    "          'transmitted_data_imag',\n",
    "          'encoded_data_real',\n",
    "          'encoded_data_imag',\n",
    "          'decoded_data_real',\n",
    "         'decoded_data_imag']]\n",
    "\n",
    "X_ = data[['received_data_real',\n",
    "           'received_data_imag',\n",
    "           'decoded_data_real',\n",
    "           'decoded_data_imag']]\n",
    "\n",
    "X['input_data'] /= 255\n",
    "y = data['output_data']/255\n"
   ]
  },
  {
   "cell_type": "code",
   "execution_count": 5,
   "metadata": {},
   "outputs": [
    {
     "data": {
      "text/html": [
       "<div>\n",
       "<style scoped>\n",
       "    .dataframe tbody tr th:only-of-type {\n",
       "        vertical-align: middle;\n",
       "    }\n",
       "\n",
       "    .dataframe tbody tr th {\n",
       "        vertical-align: top;\n",
       "    }\n",
       "\n",
       "    .dataframe thead th {\n",
       "        text-align: right;\n",
       "    }\n",
       "</style>\n",
       "<table border=\"1\" class=\"dataframe\">\n",
       "  <thead>\n",
       "    <tr style=\"text-align: right;\">\n",
       "      <th></th>\n",
       "      <th>input_data</th>\n",
       "      <th>received_data_real</th>\n",
       "      <th>received_data_imag</th>\n",
       "      <th>transmitted_data_real</th>\n",
       "      <th>transmitted_data_imag</th>\n",
       "      <th>encoded_data_real</th>\n",
       "      <th>encoded_data_imag</th>\n",
       "      <th>decoded_data_real</th>\n",
       "      <th>decoded_data_imag</th>\n",
       "    </tr>\n",
       "  </thead>\n",
       "  <tbody>\n",
       "    <tr>\n",
       "      <th>0</th>\n",
       "      <td>0.000000</td>\n",
       "      <td>0.000000</td>\n",
       "      <td>0.000000</td>\n",
       "      <td>0.000000</td>\n",
       "      <td>0.000000</td>\n",
       "      <td>0.000000</td>\n",
       "      <td>0.000000</td>\n",
       "      <td>0.000000</td>\n",
       "      <td>0.000000</td>\n",
       "    </tr>\n",
       "    <tr>\n",
       "      <th>27</th>\n",
       "      <td>0.980392</td>\n",
       "      <td>0.663894</td>\n",
       "      <td>-0.013224</td>\n",
       "      <td>0.361498</td>\n",
       "      <td>0.370355</td>\n",
       "      <td>-1.414214</td>\n",
       "      <td>-1.414214</td>\n",
       "      <td>1.414214</td>\n",
       "      <td>1.414214</td>\n",
       "    </tr>\n",
       "    <tr>\n",
       "      <th>63</th>\n",
       "      <td>0.415686</td>\n",
       "      <td>0.827796</td>\n",
       "      <td>0.371415</td>\n",
       "      <td>-0.148441</td>\n",
       "      <td>0.622365</td>\n",
       "      <td>-1.414214</td>\n",
       "      <td>-1.414214</td>\n",
       "      <td>1.414214</td>\n",
       "      <td>-1.414214</td>\n",
       "    </tr>\n",
       "    <tr>\n",
       "      <th>66</th>\n",
       "      <td>0.780392</td>\n",
       "      <td>0.361152</td>\n",
       "      <td>-0.112456</td>\n",
       "      <td>-0.569406</td>\n",
       "      <td>0.648922</td>\n",
       "      <td>1.414214</td>\n",
       "      <td>1.414214</td>\n",
       "      <td>1.414214</td>\n",
       "      <td>1.414214</td>\n",
       "    </tr>\n",
       "    <tr>\n",
       "      <th>80</th>\n",
       "      <td>0.152941</td>\n",
       "      <td>-0.418070</td>\n",
       "      <td>0.866829</td>\n",
       "      <td>0.021619</td>\n",
       "      <td>-0.094309</td>\n",
       "      <td>-1.414214</td>\n",
       "      <td>-1.414214</td>\n",
       "      <td>-1.414214</td>\n",
       "      <td>-1.414214</td>\n",
       "    </tr>\n",
       "  </tbody>\n",
       "</table>\n",
       "</div>"
      ],
      "text/plain": [
       "    input_data  received_data_real  received_data_imag  transmitted_data_real  \\\n",
       "0     0.000000            0.000000            0.000000               0.000000   \n",
       "27    0.980392            0.663894           -0.013224               0.361498   \n",
       "63    0.415686            0.827796            0.371415              -0.148441   \n",
       "66    0.780392            0.361152           -0.112456              -0.569406   \n",
       "80    0.152941           -0.418070            0.866829               0.021619   \n",
       "\n",
       "    transmitted_data_imag  encoded_data_real  encoded_data_imag  \\\n",
       "0                0.000000           0.000000           0.000000   \n",
       "27               0.370355          -1.414214          -1.414214   \n",
       "63               0.622365          -1.414214          -1.414214   \n",
       "66               0.648922           1.414214           1.414214   \n",
       "80              -0.094309          -1.414214          -1.414214   \n",
       "\n",
       "    decoded_data_real  decoded_data_imag  \n",
       "0            0.000000           0.000000  \n",
       "27           1.414214           1.414214  \n",
       "63           1.414214          -1.414214  \n",
       "66           1.414214           1.414214  \n",
       "80          -1.414214          -1.414214  "
      ]
     },
     "execution_count": 5,
     "metadata": {},
     "output_type": "execute_result"
    }
   ],
   "source": [
    "X.head()"
   ]
  },
  {
   "cell_type": "code",
   "execution_count": 6,
   "metadata": {},
   "outputs": [
    {
     "data": {
      "text/html": [
       "<div>\n",
       "<style scoped>\n",
       "    .dataframe tbody tr th:only-of-type {\n",
       "        vertical-align: middle;\n",
       "    }\n",
       "\n",
       "    .dataframe tbody tr th {\n",
       "        vertical-align: top;\n",
       "    }\n",
       "\n",
       "    .dataframe thead th {\n",
       "        text-align: right;\n",
       "    }\n",
       "</style>\n",
       "<table border=\"1\" class=\"dataframe\">\n",
       "  <thead>\n",
       "    <tr style=\"text-align: right;\">\n",
       "      <th></th>\n",
       "      <th>received_data_real</th>\n",
       "      <th>received_data_imag</th>\n",
       "      <th>decoded_data_real</th>\n",
       "      <th>decoded_data_imag</th>\n",
       "    </tr>\n",
       "  </thead>\n",
       "  <tbody>\n",
       "    <tr>\n",
       "      <th>0</th>\n",
       "      <td>0.000000</td>\n",
       "      <td>0.000000</td>\n",
       "      <td>0.000000</td>\n",
       "      <td>0.000000</td>\n",
       "    </tr>\n",
       "    <tr>\n",
       "      <th>27</th>\n",
       "      <td>0.663894</td>\n",
       "      <td>-0.013224</td>\n",
       "      <td>1.414214</td>\n",
       "      <td>1.414214</td>\n",
       "    </tr>\n",
       "    <tr>\n",
       "      <th>63</th>\n",
       "      <td>0.827796</td>\n",
       "      <td>0.371415</td>\n",
       "      <td>1.414214</td>\n",
       "      <td>-1.414214</td>\n",
       "    </tr>\n",
       "    <tr>\n",
       "      <th>66</th>\n",
       "      <td>0.361152</td>\n",
       "      <td>-0.112456</td>\n",
       "      <td>1.414214</td>\n",
       "      <td>1.414214</td>\n",
       "    </tr>\n",
       "    <tr>\n",
       "      <th>80</th>\n",
       "      <td>-0.418070</td>\n",
       "      <td>0.866829</td>\n",
       "      <td>-1.414214</td>\n",
       "      <td>-1.414214</td>\n",
       "    </tr>\n",
       "  </tbody>\n",
       "</table>\n",
       "</div>"
      ],
      "text/plain": [
       "    received_data_real  received_data_imag  decoded_data_real  \\\n",
       "0             0.000000            0.000000           0.000000   \n",
       "27            0.663894           -0.013224           1.414214   \n",
       "63            0.827796            0.371415           1.414214   \n",
       "66            0.361152           -0.112456           1.414214   \n",
       "80           -0.418070            0.866829          -1.414214   \n",
       "\n",
       "    decoded_data_imag  \n",
       "0            0.000000  \n",
       "27           1.414214  \n",
       "63          -1.414214  \n",
       "66           1.414214  \n",
       "80          -1.414214  "
      ]
     },
     "execution_count": 6,
     "metadata": {},
     "output_type": "execute_result"
    }
   ],
   "source": [
    "X_.head()"
   ]
  },
  {
   "cell_type": "code",
   "execution_count": 7,
   "metadata": {},
   "outputs": [
    {
     "data": {
      "text/plain": [
       "0     0.000000\n",
       "27    0.968627\n",
       "63    0.419608\n",
       "66    0.815686\n",
       "80    0.192157\n",
       "Name: output_data, dtype: float64"
      ]
     },
     "execution_count": 7,
     "metadata": {},
     "output_type": "execute_result"
    }
   ],
   "source": [
    "y.head()"
   ]
  },
  {
   "cell_type": "code",
   "execution_count": 8,
   "metadata": {},
   "outputs": [],
   "source": [
    "def decimalToBinary(n):  \n",
    "    return bin(n).replace(\"0b\", \"\") "
   ]
  },
  {
   "cell_type": "code",
   "execution_count": null,
   "metadata": {},
   "outputs": [],
   "source": [
    "count = 0\n",
    "for i in range(0,8):  \n",
    "    if ((( A >>  i) & 1) != (( B >>  i) & 1)):  \n",
    "        count = count + 1\n",
    "print(count)"
   ]
  },
  {
   "cell_type": "code",
   "execution_count": 9,
   "metadata": {},
   "outputs": [],
   "source": [
    "# Splitting the data\n",
    "X_train,X_test,y_train,y_test = train_test_split(X, y, test_size=0.2, random_state=1)"
   ]
  },
  {
   "cell_type": "code",
   "execution_count": 10,
   "metadata": {},
   "outputs": [
    {
     "data": {
      "text/plain": [
       "LinearRegression(copy_X=True, fit_intercept=True, n_jobs=None,\n",
       "         normalize=False)"
      ]
     },
     "execution_count": 10,
     "metadata": {},
     "output_type": "execute_result"
    }
   ],
   "source": [
    "#Creating the model : Logistic Regression\n",
    "lr = LinearRegression()\n",
    "lr.fit(X_train,y_train)"
   ]
  },
  {
   "cell_type": "code",
   "execution_count": 11,
   "metadata": {},
   "outputs": [
    {
     "name": "stdout",
     "output_type": "stream",
     "text": [
      "Coefficients of the model :  [ 9.55971740e-01 -3.79610642e-04  3.83483154e-04  6.21833094e-05\n",
      " -1.31868470e-03  1.21150828e-03 -1.81323616e-04  4.79478938e-03\n",
      "  7.32862371e-03]\n"
     ]
    }
   ],
   "source": [
    "# printing co-efficients of linear regression\n",
    "m = lr.coef_\n",
    "print(\"Coefficients of the model : \",m)"
   ]
  },
  {
   "cell_type": "code",
   "execution_count": 12,
   "metadata": {},
   "outputs": [
    {
     "name": "stdout",
     "output_type": "stream",
     "text": [
      "Intercept :  0.023117319703747197\n"
     ]
    }
   ],
   "source": [
    "#intercept of the model\n",
    "c = lr.intercept_\n",
    "print(\"Intercept : \", c)"
   ]
  },
  {
   "cell_type": "code",
   "execution_count": 13,
   "metadata": {},
   "outputs": [
    {
     "name": "stdout",
     "output_type": "stream",
     "text": [
      "Predicted Value :  [119.03105096]\n",
      "Input Signal :  120.0\n"
     ]
    }
   ],
   "source": [
    "# Prediction of a value\n",
    "pred_value = lr.predict([X_test.iloc[0]])\n",
    "print(\"Predicted Value : \", pred_value*255)\n",
    "print(\"Input Signal : \", X_test.iloc[0].input_data*255)"
   ]
  },
  {
   "cell_type": "code",
   "execution_count": 14,
   "metadata": {},
   "outputs": [
    {
     "name": "stdout",
     "output_type": "stream",
     "text": [
      "Model Score : 99.283 %\n"
     ]
    }
   ],
   "source": [
    "# score of the model\n",
    "acc_lr = 100 * lr.score(X_test,y_test)\n",
    "print(\"Model Score : {:.3f} %\".format(acc_lr))"
   ]
  },
  {
   "cell_type": "code",
   "execution_count": 15,
   "metadata": {},
   "outputs": [
    {
     "data": {
      "text/plain": [
       "['dcom/input_linear_model.pkl']"
      ]
     },
     "execution_count": 15,
     "metadata": {},
     "output_type": "execute_result"
    }
   ],
   "source": [
    "# saving the model\n",
    "joblib_file = \"dcom/input_linear_model.pkl\"  \n",
    "joblib.dump(lr, joblib_file)\n",
    "\n",
    "# reload the file\n",
    "# joblib_LR_model = joblib.load(joblib_file)"
   ]
  },
  {
   "cell_type": "code",
   "execution_count": null,
   "metadata": {},
   "outputs": [],
   "source": [
    "scalex = StandardScaler()\n",
    "scaley = StandardScaler()\n",
    "X_ = scalex.fit_transform(X_)\n",
    "y = np.array(data['output_data'])\n",
    "y = y.reshape(-1, 1)\n",
    "y = scaley.fit_transform(y)"
   ]
  },
  {
   "cell_type": "code",
   "execution_count": 16,
   "metadata": {},
   "outputs": [],
   "source": [
    "# Splitting the data\n",
    "X_train,X_test,y_train,y_test = train_test_split(X_, y, test_size=0.2, random_state=1)"
   ]
  },
  {
   "cell_type": "code",
   "execution_count": 17,
   "metadata": {},
   "outputs": [],
   "source": [
    "from keras.models import Sequential\n",
    "from keras.layers import Dense\n",
    "\n",
    "# Building the DNN model\n",
    "model = Sequential()\n",
    "model.add(Dense(units = 4, activation = 'relu', input_dim = 4))\n",
    "model.add(Dense(units = 4,  activation = 'relu'))\n",
    "model.add(Dense(units = 1,  activation = 'linear'))\n",
    "model.compile(loss='mse', optimizer='adam', metrics=['mse','mae'])"
   ]
  },
  {
   "cell_type": "code",
   "execution_count": 18,
   "metadata": {},
   "outputs": [
    {
     "name": "stdout",
     "output_type": "stream",
     "text": [
      "Model: \"sequential\"\n",
      "_________________________________________________________________\n",
      "Layer (type)                 Output Shape              Param #   \n",
      "=================================================================\n",
      "dense (Dense)                (None, 4)                 20        \n",
      "_________________________________________________________________\n",
      "dense_1 (Dense)              (None, 4)                 20        \n",
      "_________________________________________________________________\n",
      "dense_2 (Dense)              (None, 1)                 5         \n",
      "=================================================================\n",
      "Total params: 45\n",
      "Trainable params: 45\n",
      "Non-trainable params: 0\n",
      "_________________________________________________________________\n"
     ]
    }
   ],
   "source": [
    "model.summary()"
   ]
  },
  {
   "cell_type": "code",
   "execution_count": 19,
   "metadata": {},
   "outputs": [
    {
     "name": "stdout",
     "output_type": "stream",
     "text": [
      "Epoch 1/25\n",
      "744/744 [==============================] - 1s 900us/step - loss: 0.1133 - mse: 0.1133 - mae: 0.2517 - val_loss: 0.0190 - val_mse: 0.0190 - val_mae: 0.1089\n",
      "Epoch 2/25\n",
      "744/744 [==============================] - 1s 788us/step - loss: 0.0146 - mse: 0.0146 - mae: 0.0880 - val_loss: 0.0099 - val_mse: 0.0099 - val_mae: 0.0751\n",
      "Epoch 3/25\n",
      "744/744 [==============================] - 1s 753us/step - loss: 0.0115 - mse: 0.0115 - mae: 0.0741 - val_loss: 0.0088 - val_mse: 0.0088 - val_mae: 0.0696\n",
      "Epoch 4/25\n",
      "744/744 [==============================] - 1s 788us/step - loss: 0.0110 - mse: 0.0110 - mae: 0.0715 - val_loss: 0.0085 - val_mse: 0.0085 - val_mae: 0.0685\n",
      "Epoch 5/25\n",
      "744/744 [==============================] - 0s 643us/step - loss: 0.0109 - mse: 0.0109 - mae: 0.0709 - val_loss: 0.0085 - val_mse: 0.0085 - val_mae: 0.0683\n",
      "Epoch 6/25\n",
      "744/744 [==============================] - 1s 744us/step - loss: 0.0109 - mse: 0.0109 - mae: 0.0708 - val_loss: 0.0088 - val_mse: 0.0088 - val_mae: 0.0691\n",
      "Epoch 7/25\n",
      "744/744 [==============================] - 1s 727us/step - loss: 0.0108 - mse: 0.0108 - mae: 0.0705 - val_loss: 0.0089 - val_mse: 0.0089 - val_mae: 0.0702\n",
      "Epoch 8/25\n",
      "744/744 [==============================] - 0s 645us/step - loss: 0.0108 - mse: 0.0108 - mae: 0.0705 - val_loss: 0.0085 - val_mse: 0.0085 - val_mae: 0.0683\n",
      "Epoch 9/25\n",
      "744/744 [==============================] - 1s 700us/step - loss: 0.0108 - mse: 0.0108 - mae: 0.0704 - val_loss: 0.0085 - val_mse: 0.0085 - val_mae: 0.0688\n",
      "Epoch 10/25\n",
      "744/744 [==============================] - 1s 722us/step - loss: 0.0108 - mse: 0.0108 - mae: 0.0704 - val_loss: 0.0085 - val_mse: 0.0085 - val_mae: 0.0677\n",
      "Epoch 11/25\n",
      "744/744 [==============================] - 1s 846us/step - loss: 0.0108 - mse: 0.0108 - mae: 0.0705 - val_loss: 0.0085 - val_mse: 0.0085 - val_mae: 0.0677\n",
      "Epoch 12/25\n",
      "744/744 [==============================] - 1s 718us/step - loss: 0.0108 - mse: 0.0108 - mae: 0.0703 - val_loss: 0.0084 - val_mse: 0.0084 - val_mae: 0.0676\n",
      "Epoch 13/25\n",
      "744/744 [==============================] - 1s 790us/step - loss: 0.0108 - mse: 0.0108 - mae: 0.0703 - val_loss: 0.0085 - val_mse: 0.0085 - val_mae: 0.0681\n",
      "Epoch 14/25\n",
      "744/744 [==============================] - 1s 733us/step - loss: 0.0107 - mse: 0.0107 - mae: 0.0703 - val_loss: 0.0084 - val_mse: 0.0084 - val_mae: 0.0673\n",
      "Epoch 15/25\n",
      "744/744 [==============================] - 0s 661us/step - loss: 0.0108 - mse: 0.0108 - mae: 0.0702 - val_loss: 0.0087 - val_mse: 0.0087 - val_mae: 0.0681\n",
      "Epoch 16/25\n",
      "744/744 [==============================] - 1s 679us/step - loss: 0.0108 - mse: 0.0108 - mae: 0.0702 - val_loss: 0.0085 - val_mse: 0.0085 - val_mae: 0.0676\n",
      "Epoch 17/25\n",
      "744/744 [==============================] - 0s 620us/step - loss: 0.0107 - mse: 0.0107 - mae: 0.0702 - val_loss: 0.0085 - val_mse: 0.0085 - val_mae: 0.0675\n",
      "Epoch 18/25\n",
      "744/744 [==============================] - 1s 714us/step - loss: 0.0108 - mse: 0.0108 - mae: 0.0703 - val_loss: 0.0084 - val_mse: 0.0084 - val_mae: 0.0679\n",
      "Epoch 19/25\n",
      "744/744 [==============================] - 1s 800us/step - loss: 0.0108 - mse: 0.0108 - mae: 0.0701 - val_loss: 0.0086 - val_mse: 0.0086 - val_mae: 0.0684\n",
      "Epoch 20/25\n",
      "744/744 [==============================] - 1s 694us/step - loss: 0.0107 - mse: 0.0107 - mae: 0.0701 - val_loss: 0.0084 - val_mse: 0.0084 - val_mae: 0.0672\n",
      "Epoch 21/25\n",
      "744/744 [==============================] - 1s 741us/step - loss: 0.0107 - mse: 0.0107 - mae: 0.0701 - val_loss: 0.0086 - val_mse: 0.0086 - val_mae: 0.0682\n",
      "Epoch 22/25\n",
      "744/744 [==============================] - 1s 751us/step - loss: 0.0107 - mse: 0.0107 - mae: 0.0702 - val_loss: 0.0085 - val_mse: 0.0085 - val_mae: 0.0679\n",
      "Epoch 23/25\n",
      "744/744 [==============================] - 1s 772us/step - loss: 0.0108 - mse: 0.0108 - mae: 0.0703 - val_loss: 0.0085 - val_mse: 0.0085 - val_mae: 0.0681\n",
      "Epoch 24/25\n",
      "744/744 [==============================] - 1s 747us/step - loss: 0.0108 - mse: 0.0108 - mae: 0.0703 - val_loss: 0.0085 - val_mse: 0.0085 - val_mae: 0.0677\n",
      "Epoch 25/25\n",
      "744/744 [==============================] - 1s 758us/step - loss: 0.0107 - mse: 0.0107 - mae: 0.0702 - val_loss: 0.0085 - val_mse: 0.0085 - val_mae: 0.0672\n"
     ]
    }
   ],
   "source": [
    "hist = model.fit(X_train, y_train,validation_split=0.125, batch_size = 10, epochs = 25)"
   ]
  },
  {
   "cell_type": "code",
   "execution_count": 20,
   "metadata": {},
   "outputs": [
    {
     "data": {
      "image/png": "[encoded data removed]",
      "text/plain": [
       "<Figure size 432x288 with 1 Axes>"
      ]
     },
     "metadata": {
      "needs_background": "light"
     },
     "output_type": "display_data"
    }
   ],
   "source": [
    "# summarize history for loss\n",
    "plt.plot(hist.history['loss'])\n",
    "plt.plot(hist.history['val_loss'])\n",
    "plt.title('Model Loss')\n",
    "plt.ylabel('Loss')\n",
    "plt.xlabel('Epoch')\n",
    "plt.legend(['Train', 'Test'], loc='upper right')\n",
    "plt.show()"
   ]
  },
  {
   "cell_type": "code",
   "execution_count": 21,
   "metadata": {},
   "outputs": [
    {
     "data": {
      "image/png": "[encoded data removed]",
      "text/plain": [
       "<Figure size 432x288 with 1 Axes>"
      ]
     },
     "metadata": {
      "needs_background": "light"
     },
     "output_type": "display_data"
    }
   ],
   "source": [
    "# summarize history for mae \n",
    "plt.plot(hist.history['mae'])\n",
    "plt.plot(hist.history['val_mae'])\n",
    "plt.title('Mean Absolute Error Plot')\n",
    "plt.ylabel('mse')\n",
    "plt.xlabel('Epoch')\n",
    "plt.legend(['Train', 'Test'], loc='upper right')\n",
    "plt.show()"
   ]
  },
  {
   "cell_type": "code",
   "execution_count": 22,
   "metadata": {},
   "outputs": [
    {
     "name": "stdout",
     "output_type": "stream",
     "text": [
      "[0.008557165041565895, 0.008557165041565895, 0.06812842935323715]\n"
     ]
    }
   ],
   "source": [
    "#scores of the model\n",
    "scores = model.evaluate(X_test, y_test, verbose=0)\n",
    "print(scores)"
   ]
  },
  {
   "cell_type": "code",
   "execution_count": 33,
   "metadata": {},
   "outputs": [
    {
     "name": "stdout",
     "output_type": "stream",
     "text": [
      "Output values is :  [[108.28809]]\n"
     ]
    }
   ],
   "source": [
    "# predict new values\n",
    "X_test = np.array(X_test)\n",
    "new_inp = X_test[0].reshape(1,-1)\n",
    "value = model.predict(new_inp) * 255\n",
    "print(\"Output values is : \", value)"
   ]
  },
  {
   "cell_type": "code",
   "execution_count": 35,
   "metadata": {},
   "outputs": [
    {
     "name": "stdout",
     "output_type": "stream",
     "text": [
      "WARNING:tensorflow:From C:\\Users\\Kaustubh\\Anaconda3\\lib\\site-packages\\tensorflow\\python\\training\\tracking\\tracking.py:111: Model.state_updates (from tensorflow.python.keras.engine.training) is deprecated and will be removed in a future version.\n",
      "Instructions for updating:\n",
      "This property should not be used in TensorFlow 2.0, as updates are applied automatically.\n",
      "WARNING:tensorflow:From C:\\Users\\Kaustubh\\Anaconda3\\lib\\site-packages\\tensorflow\\python\\training\\tracking\\tracking.py:111: Layer.updates (from tensorflow.python.keras.engine.base_layer) is deprecated and will be removed in a future version.\n",
      "Instructions for updating:\n",
      "This property should not be used in TensorFlow 2.0, as updates are applied automatically.\n",
      "INFO:tensorflow:Assets written to: dcom/dnn_model\\assets\n"
     ]
    }
   ],
   "source": [
    "model.save('dcom/dnn_model')"
   ]
  },
  {
   "cell_type": "code",
   "execution_count": 36,
   "metadata": {},
   "outputs": [
    {
     "data": {
      "text/plain": [
       "LinearRegression(copy_X=True, fit_intercept=True, n_jobs=None,\n",
       "         normalize=False)"
      ]
     },
     "execution_count": 36,
     "metadata": {},
     "output_type": "execute_result"
    }
   ],
   "source": [
    "# bulding a decision tree regressor\n",
    "lr_ = LinearRegression()\n",
    "lr_.fit(X_train,y_train)"
   ]
  },
  {
   "cell_type": "code",
   "execution_count": 43,
   "metadata": {},
   "outputs": [
    {
     "name": "stdout",
     "output_type": "stream",
     "text": [
      "Predicted Value :  [105.13283747]\n"
     ]
    }
   ],
   "source": [
    "# Prediction of a value\n",
    "pred_value = lr_.predict(X_test[0].reshape(1,-1))\n",
    "print(\"Predicted Value : \", pred_value * 255)"
   ]
  },
  {
   "cell_type": "code",
   "execution_count": 44,
   "metadata": {},
   "outputs": [
    {
     "name": "stdout",
     "output_type": "stream",
     "text": [
      "Model Score : 88.316 %\n"
     ]
    }
   ],
   "source": [
    "# score of the model\n",
    "acc_lr = 100 * lr_.score(X_test,y_test)\n",
    "print(\"Model Score : {:.3f} %\".format(acc_lr))"
   ]
  },
  {
   "cell_type": "code",
   "execution_count": 45,
   "metadata": {},
   "outputs": [
    {
     "data": {
      "text/plain": [
       "['dcom/output_linear_model.pkl']"
      ]
     },
     "execution_count": 45,
     "metadata": {},
     "output_type": "execute_result"
    }
   ],
   "source": [
    "# saving the model\n",
    "joblib_file = \"dcom/output_linear_model.pkl\"  \n",
    "joblib.dump(lr_, joblib_file)\n",
    "\n",
    "# reload the file\n",
    "# joblib_LR_model = joblib.load(joblib_file)"
   ]
  },
  {
   "cell_type": "code",
   "execution_count": null,
   "metadata": {},
   "outputs": [],
   "source": []
  },
  {
   "cell_type": "code",
   "execution_count": null,
   "metadata": {},
   "outputs": [],
   "source": []
  }
 ],
 "metadata": {
  "kernelspec": {
   "display_name": "Python 3",
   "language": "python",
   "name": "python3"
  },
  "language_info": {
   "codemirror_mode": {
    "name": "ipython",
    "version": 3
   },
   "file_extension": ".py",
   "mimetype": "text/x-python",
   "name": "python",
   "nbconvert_exporter": "python",
   "pygments_lexer": "ipython3",
   "version": "3.7.3"
  }
 },
 "nbformat": 4,
 "nbformat_minor": 2
}
