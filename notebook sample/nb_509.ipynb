{
 "cells": [
  {
   "cell_type": "markdown",
   "metadata": {
    "id": "FeCu1oVsSWYR"
   },
   "source": [
    "# Supervised Learning"
   ]
  },
  {
   "cell_type": "markdown",
   "metadata": {
    "id": "PotvbB39SWYS"
   },
   "source": [
    "Any machine learning problem can be assigned one of two broad classifications: Supervised learning and Unsupervised learning.\n",
    "\n",
    "Supervised learning is where you have input variables $x$ and an output variable $y$ and you use an algorithm to learn the mapping function from the input to the output. $y$=$f(x)$\n",
    "The variable types can be:\n",
    "1. Numerical, real number measurements (usually quantitative).\n",
    "2. Categorical, from a discrete set (often qualitative). E.g. {Spam, Not-spam}.\n",
    "3. Ordinal, from a discrete set, without metric relation, but allows ranking. E.g. {first, second, third}\n",
    "\n",
    "It is called supervised learning because the process of an algorithm learning from the training dataset can be thought of as a teacher supervising the learning process. We know the correct answers, the algorithm iteratively makes predictions on the training data and is corrected by the teacher. Learning stops when the algorithm achieves an acceptable level of performance.\n",
    "\n",
    "Supervised learning problems can be further grouped into:\n",
    "\n",
    "* __Regression__: A regression problem is when the output variable is a real value, such as “dollars” or “weight”.\n",
    "* __Classification__: A classification problem is when the output variable is a category, such as “red” or “blue” or “disease” and “no disease”.\n",
    "\n",
    "Now, we will dive into Least-squares solution method for Linear Regression, Logistic Regression, and Support Vector Machines."
   ]
  },
  {
   "cell_type": "markdown",
   "metadata": {
    "id": "GzZUp3jJSWYS"
   },
   "source": [
    "## Least-Squares Method\n",
    "\n",
    "   The learning algorithm takes a training set and outputs $h$.<br>\n",
    "    Hypothesis function $\\hat{y}$ represented as $h_\\theta(x) = \n",
    "          \\theta_0 + \\theta_1x$,<br>\n",
    "    $\\theta_i$: parameters<br>\n",
    "    $\\theta_0$: $y$-intersect<br>\n",
    "    $\\theta_1x$: gradient<br>\n",
    "    $\\alpha$: learning rate (greater = more aggressive)<br>\n",
    "    \n",
    "   The squared error cost function measures the accuracy of the \n",
    "    hypothesis using the average difference of each hypothesis taken\n",
    "    from $(x_i, y_i)$:<br><br> $J(\\theta_0, \\theta_1) = \\dfrac {1}{2m} \\displaystyle \n",
    "    \\sum_{i=1}^m \\left ( \\hat{y_{i}}- y_{i} \\right)^2 = \\dfrac \n",
    "    {1}{2m} \\displaystyle \\sum_{i=1}^m \\left (h_\\theta (x_{i}) \n",
    "    - y_{i} \\right)^2$\n",
    "\n",
    "   The mean of the squares is halved for convencience of computing the \n",
    "    gradient descent, as the derivative term of the square function will\n",
    "    cancil out the 1/2 term. The goal is to minimise $J(\\theta_0, \\theta_1)$. The lowest \n",
    "    value for $J(\\theta_1)$ is selected, which will return the \n",
    "    least difference (best fit).\n",
    "    \n",
    "    \n",
    "\n",
    "![Linear regression of Wikipedia](https://upload.wikimedia.org/wikipedia/commons/3/3a/Linear_regression.svg)\n",
    "\n",
    "### Gradient Descent:\n",
    "\n",
    "Gradient Descent: find the quickest path to the local optimum. \n",
    "If univariate, there will be just one global optimum. This is used to\n",
    "    estimate the parameters in the hypothesis function.\n",
    "\n",
    "   Repeat until convergence:<br>$\\theta_j := \\theta_j - \\alpha\\frac {\\partial}{\\partial\\theta_j} J(\\theta_0, \\theta_1)$\n",
    "\n",
    "\n",
    "   Translates to:\n",
    "<br>$\\theta_0 := \\theta_0 - \\alpha \\frac{1}{m} \\sum\\limits_{i=1}^{m}(h_\\theta(x_{i}) - y_{i})$\n",
    "\n",
    "$\\theta_1 := \\theta_1 - \\alpha \\frac{1}{m} \\sum\\limits_{i=1}^{m}((h_\\theta(x_{i}) - y_{i})x_i)$\n",
    "\n",
    "   The derivative refers to the direction taken by the gradient descent \n",
    "    (i.e. positive or negative slope direction).\n",
    "\n",
    "   Need to simultaneously update $\\theta_0$, $\\theta_1$..., \n",
    "    $\\theta_n$ by assigning the computed gradiant descents for \n",
    "    $j$=0,$j$=1...,$j$=n to each variable at the same time. If $\\theta_0$ is \n",
    "    updated before $\\theta_1$, the second computation will be using the newly \n",
    "    assigned value of $\\theta_0$.\n",
    "\n",
    "   With fixed $\\alpha$, the derivative will naturally decrease, \n",
    "    taking smaller steps to reach the convergence. $\\alpha$ can take \n",
    "    too many steps to converge if too low, or alternatively can \n",
    "    overshoot and diverge if too high. If already at convergence, \n",
    "    the derivative will be treated as 0 and no more calculations \n",
    "    will be made. \n",
    "\n",
    "Let's dive into the data!"
   ]
  },
  {
   "cell_type": "markdown",
   "metadata": {
    "id": "XJO7AuxjSWYT"
   },
   "source": [
    "## Logistic Regression\n",
    "\n",
    "### Overview\n",
    "\n",
    "Sigmoid function: $h_\\theta(x) = g(\\theta^Tx), \\text{ where } \n",
    "  g(z) = \\frac{1}{1+e^{-z}} \\text{ and } z: \\mathbb{R}$\n",
    "\n",
    "  So, $h_\\theta^{(x)} = \\frac{1}{1+e^{-\\theta^Tx}}$\n",
    "\n",
    "  Interpretation: $h_\\theta(x)$ = 0.7 = 70\\% chance of positive outcome.\n",
    "\n",
    "  $h_\\theta(x) = P(y=1|x;\\theta)$ i.e. the probability that y=1, given x\n",
    "  parameterised by $\\theta$.\n",
    "\n",
    "  $P(y=0|x;\\theta) + P(y=1|x;\\theta) = 1$\n",
    "\n",
    "  Predicts $y=1$ when $h_\\theta(x) \\geq 0.5$, or when $\\theta^Tx \\geq 0$\n",
    "\n",
    "  Decision boundaries can be linear and non-linear. They are defined\n",
    "  by the chosen theta.\n",
    "\n",
    "### Cost Functions\n",
    "\n",
    "Using logistic regression cost function returns a non-convex function: not\n",
    "  guaranteed to converge to global minimum.\n",
    "\n",
    "  $J(\\theta) = \\frac{1}{m} \\displaystyle\\sum_{i=1}^{m} \\text{Cost}\n",
    "  (h_\\theta(x^{(i)}),y^{(i)})$\n",
    "  \n",
    "  Cost$(h_\\theta(x^{(i)}, y^{(i)}) = \\begin{cases}\n",
    "    -\\log(h_\\theta(x)) \\text{ if } y=1\\\\\n",
    "    -\\log(1-h_\\theta(x)) & \\text{if } y=0 \\end{cases}$\n",
    "\n",
    "  If $y=1, h_\\theta(x)\\rightarrow0$ pays a higher cost.\\\\ \n",
    "  If $y=0, h_\\theta(x)\\rightarrow1$ pays a higher cost.\n",
    "\n",
    "  Simplified: Cost$(h_\\theta(x),y) = -y\\log(h_\\theta(x)) \n",
    "  - (1-y)\\log(1-h_\\theta(x))$"
   ]
  },
  {
   "cell_type": "markdown",
   "metadata": {
    "id": "QttoJtSKSWYV"
   },
   "source": [
    " If $y=1$, the second half of the cost function is ignored.<br>\n",
    "  If $y=0$, the first half of the cost function is ignored."
   ]
  },
  {
   "cell_type": "markdown",
   "metadata": {
    "id": "BXYWWldMSWYW"
   },
   "source": [
    " This method is derived from maximum likelihood estimation."
   ]
  },
  {
   "cell_type": "markdown",
   "metadata": {
    "id": "dMvbUD_aSWYW"
   },
   "source": [
    "\n",
    "\n",
    "### Gradient Descent:\n",
    "\n",
    "$J(\\theta) = -\\frac{1}{m}[\\displaystyle\\sum_{i=1}^m y^{(i)}\\log h_\\theta(x^{(i)}) + (1y^{(i)})\\log(1h_\\theta(x^{(i)}))]$ $\\min_\\theta J(\\theta):$\n",
    "\n",
    " $\\text{Repeat} \\{\\hspace{1em} \\theta_j := \\theta_j - \\alpha\\frac{\\partial}{\\partial\\theta_j}J(\\theta)\\\\\n",
    "  \\hspace{1em} \\}  \\hspace{1em}$ (simultaneously update all $\\theta_j$) \n",
    "\n",
    " $\\frac{\\partial}{\\partial\\theta_j}J(\\theta) = \\displaystyle\\sum_{i=1}^m (h_\\theta(x^{(i)}) - y^{(i)})x_j^{(i)}$\n",
    "\n",
    "   The difference between linear and logistic regression gradient descent is that the definition of $h_\\theta^{(x)}$ is now equal to \n",
    "    $\\frac{1}{1+e^{-\\theta^Tx}}$.\n",
    "\n",
    "   "
   ]
  },
  {
   "cell_type": "markdown",
   "metadata": {
    "id": "itGHOyG0SWYX"
   },
   "source": [
    "## Logistic Regression Example:"
   ]
  },
  {
   "cell_type": "code",
   "execution_count": 1,
   "metadata": {
    "executionInfo": {
     "elapsed": 873,
     "status": "ok",
     "timestamp": 1601943848223,
     "user": {
      "displayName": "Anish Verma",
      "photoUrl": "https://lh3.googleusercontent.com/a-/AOh14GjoJkgF8eNPvSqmoPGVlpinxfL1NruO1yFjvmI=s64",
      "userId": "07835666647966761602"
     },
     "user_tz": 420
    },
    "id": "rlkrgK2MSWYX"
   },
   "outputs": [],
   "source": [
    "# import required python modules\n",
    "import pandas as pd\n",
    "import numpy as np\n",
    "import matplotlib.pyplot as plt\n",
    "import random\n",
    "import scipy as sci\n",
    "from sklearn.linear_model import LinearRegression, Ridge, Lasso, LogisticRegression\n",
    "from sklearn.metrics import mean_absolute_error, mean_squared_error, f1_score, accuracy_score, recall_score, precision_score\n",
    "plt.style.use('ggplot')"
   ]
  },
  {
   "cell_type": "code",
   "execution_count": 2,
   "metadata": {
    "executionInfo": {
     "elapsed": 931,
     "status": "ok",
     "timestamp": 1601943849864,
     "user": {
      "displayName": "Anish Verma",
      "photoUrl": "https://lh3.googleusercontent.com/a-/AOh14GjoJkgF8eNPvSqmoPGVlpinxfL1NruO1yFjvmI=s64",
      "userId": "07835666647966761602"
     },
     "user_tz": 420
    },
    "id": "bUEqlbbVSWYa"
   },
   "outputs": [],
   "source": [
    "%matplotlib inline"
   ]
  },
  {
   "cell_type": "markdown",
   "metadata": {
    "id": "q-Y4J_FySWYh"
   },
   "source": [
    "Here, we run an example of logistic regression using random numbers for inputs and an output defined by where these points lie on a line in a 2D plane."
   ]
  },
  {
   "cell_type": "markdown",
   "metadata": {
    "id": "EIh_V2aRSWYi"
   },
   "source": [
    "#### Create random input of X1 & X2, and and labels (1 or 0) separated by line $0 = 4*x_1 + 9*x_2$\n",
    "\n",
    "We split the data into 50% 'training' and 50% 'testing' since we're not tuning learning rate or any other learning related parameters (see more on this in notes at end). We hold out some 'test' data to see how well the model should generalize from the data we've been given, provided our data models the distribution of x1, x2, and y in the 'real world'. Here, we're only using 50 samples, and a split of 50/50 train/test so we can see the effect of slight differences in training and testing distributions on how well the model generalizes. Generally you should use more of your data for training than testing, but reserve at least 20% for testing. "
   ]
  },
  {
   "cell_type": "code",
   "execution_count": 3,
   "metadata": {
    "executionInfo": {
     "elapsed": 892,
     "status": "ok",
     "timestamp": 1601943880387,
     "user": {
      "displayName": "Anish Verma",
      "photoUrl": "https://lh3.googleusercontent.com/a-/AOh14GjoJkgF8eNPvSqmoPGVlpinxfL1NruO1yFjvmI=s64",
      "userId": "07835666647966761602"
     },
     "user_tz": 420
    },
    "id": "M0WLQOtMSWYi"
   },
   "outputs": [],
   "source": [
    "# Create Data\n",
    "n = 50\n",
    "np.random.seed(42)\n",
    "x1 = [10 * np.random.random() - 5 for i in range(n)]\n",
    "x2 = [10 * np.random.random() - 5 for i in range(n)]\n",
    "y = [x1[i] * 4 + x2[i] * 9 for i in range(n)]\n",
    "y = np.array([0 if y[i] < 0 else 1 for i in range(n)])\n",
    "x1 = np.array(x1)\n",
    "x2 = np.array(x2)\n",
    "X = np.c_[x1,x2]\n",
    "# 50% of data used for training\n",
    "pct_use = 0.50\n",
    "split_pt = np.ceil(pct_use*n).astype('int64')\n",
    "X_train = X[0:split_pt, :]\n",
    "y_train = y[0:split_pt]\n",
    "X_test = X[split_pt:100, :]\n",
    "y_test = y[split_pt:100]"
   ]
  },
  {
   "cell_type": "code",
   "execution_count": 4,
   "metadata": {
    "colab": {
     "base_uri": "https://localhost:8080/",
     "height": 107
    },
    "executionInfo": {
     "elapsed": 1440,
     "status": "ok",
     "timestamp": 1601943885278,
     "user": {
      "displayName": "Anish Verma",
      "photoUrl": "https://lh3.googleusercontent.com/a-/AOh14GjoJkgF8eNPvSqmoPGVlpinxfL1NruO1yFjvmI=s64",
      "userId": "07835666647966761602"
     },
     "user_tz": 420
    },
    "id": "gwnt79nPSWYm",
    "outputId": "9e4994a1-3050-46c9-d99c-ab613922afcb"
   },
   "outputs": [
    {
     "data": {
      "text/plain": [
       "array([[-1.25459881,  4.69584628],\n",
       "       [ 4.50714306,  2.75132823],\n",
       "       [ 2.31993942,  4.39498942],\n",
       "       [ 0.98658484,  3.9482735 ],\n",
       "       [-3.4398136 ,  0.97899979]])"
      ]
     },
     "execution_count": 4,
     "metadata": {},
     "output_type": "execute_result"
    }
   ],
   "source": [
    "# examine data\n",
    "X_train[0:5]"
   ]
  },
  {
   "cell_type": "code",
   "execution_count": 5,
   "metadata": {
    "colab": {
     "base_uri": "https://localhost:8080/",
     "height": 35
    },
    "executionInfo": {
     "elapsed": 752,
     "status": "ok",
     "timestamp": 1601943891438,
     "user": {
      "displayName": "Anish Verma",
      "photoUrl": "https://lh3.googleusercontent.com/a-/AOh14GjoJkgF8eNPvSqmoPGVlpinxfL1NruO1yFjvmI=s64",
      "userId": "07835666647966761602"
     },
     "user_tz": 420
    },
    "id": "b9gRmuRySWYo",
    "outputId": "90af635a-7078-4e09-b53c-7904827c4451"
   },
   "outputs": [
    {
     "data": {
      "text/plain": [
       "array([1, 1, 1, 1, 0])"
      ]
     },
     "execution_count": 5,
     "metadata": {},
     "output_type": "execute_result"
    }
   ],
   "source": [
    "y_train[0:5]"
   ]
  },
  {
   "cell_type": "markdown",
   "metadata": {
    "id": "6UIiqdymSWYv"
   },
   "source": [
    "#### Run Logistic Regression"
   ]
  },
  {
   "cell_type": "code",
   "execution_count": 6,
   "metadata": {
    "colab": {
     "base_uri": "https://localhost:8080/",
     "height": 107
    },
    "executionInfo": {
     "elapsed": 1156,
     "status": "ok",
     "timestamp": 1601943939607,
     "user": {
      "displayName": "Anish Verma",
      "photoUrl": "https://lh3.googleusercontent.com/a-/AOh14GjoJkgF8eNPvSqmoPGVlpinxfL1NruO1yFjvmI=s64",
      "userId": "07835666647966761602"
     },
     "user_tz": 420
    },
    "id": "tS4DV92GSWYw",
    "outputId": "aaa08644-55fd-4525-c23a-eb32b28197b8"
   },
   "outputs": [
    {
     "data": {
      "text/plain": [
       "LogisticRegression(C=1, random_state=24)"
      ]
     },
     "execution_count": 6,
     "metadata": {},
     "output_type": "execute_result"
    }
   ],
   "source": [
    "# run logistic regression\n",
    "lr = LogisticRegression(C=1, random_state = 24)\n",
    "lr.fit(X_train,y_train)"
   ]
  },
  {
   "cell_type": "code",
   "execution_count": 7,
   "metadata": {
    "colab": {
     "base_uri": "https://localhost:8080/",
     "height": 35
    },
    "executionInfo": {
     "elapsed": 1082,
     "status": "ok",
     "timestamp": 1601943944674,
     "user": {
      "displayName": "Anish Verma",
      "photoUrl": "https://lh3.googleusercontent.com/a-/AOh14GjoJkgF8eNPvSqmoPGVlpinxfL1NruO1yFjvmI=s64",
      "userId": "07835666647966761602"
     },
     "user_tz": 420
    },
    "id": "wiZIJXleSWYz",
    "outputId": "eef1b5a8-b9c7-47f8-d6e8-455019b1965f"
   },
   "outputs": [
    {
     "data": {
      "text/plain": [
       "(array([[0.41940932, 1.40651139]]), array([-1.34947502]), 1)"
      ]
     },
     "execution_count": 7,
     "metadata": {},
     "output_type": "execute_result"
    }
   ],
   "source": [
    "lr.coef_,lr.intercept_, lr.intercept_scaling"
   ]
  },
  {
   "cell_type": "markdown",
   "metadata": {
    "id": "O8bAnb7ZSWY2"
   },
   "source": [
    "#### Training Data"
   ]
  },
  {
   "cell_type": "code",
   "execution_count": 8,
   "metadata": {
    "colab": {
     "base_uri": "https://localhost:8080/",
     "height": 517
    },
    "executionInfo": {
     "elapsed": 880,
     "status": "ok",
     "timestamp": 1601943947924,
     "user": {
      "displayName": "Anish Verma",
      "photoUrl": "https://lh3.googleusercontent.com/a-/AOh14GjoJkgF8eNPvSqmoPGVlpinxfL1NruO1yFjvmI=s64",
      "userId": "07835666647966761602"
     },
     "user_tz": 420
    },
    "id": "5G7MSaXXSWY3",
    "outputId": "5effb342-d66a-4106-f2ce-fa16f01fe7c5"
   },
   "outputs": [
    {
     "data": {
      "image/png": "[encoded data removed]",
      "text/plain": [
       "<Figure size 720x576 with 1 Axes>"
      ]
     },
     "metadata": {
      "needs_background": "light"
     },
     "output_type": "display_data"
    }
   ],
   "source": [
    "plt.rc('figure', figsize=(10,8))\n",
    "y_train_pred = lr.predict(X_train)\n",
    "pos = np.where(y_train_pred == 0)\n",
    "neg = np.where(y_train_pred == 1)\n",
    "plt.plot(X_train[pos, 0].flatten(), X_train[pos, 1].flatten(),'o', color = 'blue', label = 'head')\n",
    "plt.plot(X_train[neg, 0].flatten(), X_train[neg, 1].flatten(),'o', color = 'red', label = 'tail')\n",
    "plt.xlabel('x1')\n",
    "plt.ylabel('x2')\n",
    "\n",
    "a = np.linspace(-5, 5, 20)\n",
    "b = -4.0 * a / 9\n",
    "c = -(lr.coef_[0][0] * a + lr.intercept_[0]) / lr.coef_[0][1]\n",
    "plt.plot(a, b, '-', label='true plane', color = 'green')\n",
    "plt.plot(a, c, '-', label='predicted plane', color = 'orange')\n",
    "plt.legend()\n",
    "_ = plt.title('separation plane at x1 * 4 + x2 * 9 = 0')"
   ]
  },
  {
   "cell_type": "markdown",
   "metadata": {
    "id": "DZFb4ogiSWY5"
   },
   "source": [
    "Here, none of the samples should be misclassified. In real life, you may get some classification error as things are rarely perfectly separable by a line or plane."
   ]
  },
  {
   "cell_type": "markdown",
   "metadata": {
    "id": "wtaiu3fkSWY8"
   },
   "source": [
    "#### Test Data"
   ]
  },
  {
   "cell_type": "code",
   "execution_count": 9,
   "metadata": {
    "colab": {
     "base_uri": "https://localhost:8080/",
     "height": 517
    },
    "executionInfo": {
     "elapsed": 894,
     "status": "ok",
     "timestamp": 1601943974415,
     "user": {
      "displayName": "Anish Verma",
      "photoUrl": "https://lh3.googleusercontent.com/a-/AOh14GjoJkgF8eNPvSqmoPGVlpinxfL1NruO1yFjvmI=s64",
      "userId": "07835666647966761602"
     },
     "user_tz": 420
    },
    "id": "lOh9TwP_SWY8",
    "outputId": "ea57502f-9e3e-4f8c-8475-d71aec7ed6fb"
   },
   "outputs": [
    {
     "data": {
      "image/png": "[encoded data removed]",
      "text/plain": [
       "<Figure size 720x576 with 1 Axes>"
      ]
     },
     "metadata": {
      "needs_background": "light"
     },
     "output_type": "display_data"
    }
   ],
   "source": [
    "plt.rc('figure', figsize=(10,8))\n",
    "y_test_pred = lr.predict(X_test)\n",
    "pos = np.where(y_test_pred == 0)\n",
    "neg = np.where(y_test_pred == 1)\n",
    "plt.plot(X_test[pos, 0].flatten(), X_test[pos, 1].flatten(),'o', color = 'blue', label = 'head')\n",
    "plt.plot(X_test[neg, 0].flatten(), X_test[neg, 1].flatten(),'o', color = 'red', label = 'tail')\n",
    "plt.xlabel('x1')\n",
    "plt.ylabel('x2')\n",
    "\n",
    "a = np.linspace(-5, 5, 20)\n",
    "b = -4.0 * a / 9\n",
    "c = -(lr.coef_[0][0] * a + lr.intercept_[0]) / lr.coef_[0][1]\n",
    "plt.plot(a, b, '-', label='true plane', color = 'green')\n",
    "plt.plot(a, c, '-', label='predicted plane', color = 'orange')\n",
    "plt.legend()\n",
    "_ = plt.title('separation plane at x1 * 4 + x2 * 9 = 0')"
   ]
  },
  {
   "cell_type": "markdown",
   "metadata": {
    "id": "qTxIvp-_SWZC"
   },
   "source": [
    "When we look at the test data, we have a few datapoints with an incorrectly predicted label. You can play around with this notebook with the pct_used variable (switch from 0.50 to 0.20) and you'll see that as you use a higher percentage of data, the better the model will do, and the lower the percentage, the worse it will do in general. Note that you should reserve at least about 20% of your data for testing so that you have enough samples to be characteristic of the data distribution. Also note that if you set the variable n to a small number (i.e. total number of samples), while keeping percentage of samples used for testing constant, you will most likely see a decrease in accuracy.\n"
   ]
  },
  {
   "cell_type": "markdown",
   "metadata": {
    "id": "QO-9Q5aySWZD"
   },
   "source": [
    "## Other Notes (Read if Interested)\n",
    "\n",
    "There are topics we didn't delve into today involved in assessing model training, such as validation error and test error. Usually in a supervised learning setup, you may have extra parameters (called hyperparameters) that control the training of your model, such as learning rate ($\\alpha$). For training, you train on perhaps 60% of your data and holding out an extra 20% (validation data) for seeing how well your model does under the given hyperparameter settings. Once you've optimized hyperparameters (i.e. found the hyperparameters that result in the training of the model with minimal error on the validation data), you can retrain your model on the training data + validation data (accounts for 80% of data) and test your final model on the 20% remaining data (test data). The percentages given aren't hard and fast rules but general rules of thumb\n",
    "\n",
    "More on that in [notes](https://www.cs.toronto.edu/~mren/teach/csc411_19s/lec/lec02.pdf) publicly available from the University of Toronto."
   ]
  },
  {
   "cell_type": "code",
   "execution_count": null,
   "metadata": {},
   "outputs": [],
   "source": []
  }
 ],
 "metadata": {
  "colab": {
   "name": "supervised_learning.ipynb",
   "provenance": []
  },
  "kernelspec": {
   "display_name": "Python 3",
   "language": "python",
   "name": "python3"
  },
  "language_info": {
   "codemirror_mode": {
    "name": "ipython",
    "version": 3
   },
   "file_extension": ".py",
   "mimetype": "text/x-python",
   "name": "python",
   "nbconvert_exporter": "python",
   "pygments_lexer": "ipython3",
   "version": "3.7.3"
  }
 },
 "nbformat": 4,
 "nbformat_minor": 1
}
