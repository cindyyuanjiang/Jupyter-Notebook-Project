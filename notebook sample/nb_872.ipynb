{
 "cells": [
  {
   "cell_type": "markdown",
   "metadata": {
    "colab_type": "text",
    "id": "view-in-github"
   },
   "source": [
    "<a href=\"https://colab.research.google.com/github/kristina-arezina/Text-Classification-using-Logistic-Regression/blob/main/Text_Classification_using_Logistic_Regression.ipynb\" target=\"_parent\"><img src=\"https://colab.research.google.com/assets/colab-badge.svg\" alt=\"Open In Colab\"/></a>"
   ]
  },
  {
   "cell_type": "markdown",
   "metadata": {
    "id": "si5b54SJpLyD"
   },
   "source": [
    "# Imports"
   ]
  },
  {
   "cell_type": "code",
   "execution_count": null,
   "metadata": {
    "id": "vozXwalQogmW"
   },
   "outputs": [],
   "source": [
    "import pandas as pd\n",
    "import numpy as np\n",
    "\n",
    "from sklearn.feature_extraction.text import CountVectorizer\n",
    "from sklearn.model_selection import train_test_split\n",
    "from sklearn.linear_model import LogisticRegression\n",
    "from sklearn.metrics import confusion_matrix, classification_report\n",
    "from sklearn.preprocessing import LabelEncoder\n",
    "\n",
    "import matplotlib.pyplot as plt"
   ]
  },
  {
   "cell_type": "markdown",
   "metadata": {
    "id": "12r4Ue1YpQvi"
   },
   "source": [
    "# Data\n",
    "\n",
    "For this example you need to download twitter data from Kaggle: https://www.kaggle.com/kazanova/sentiment140\n",
    "\n",
    "**Context**\n",
    "\n",
    "This is the sentiment140 dataset. It contains 1,600,000 tweets extracted using the twitter api . The tweets have been annotated (0 = negative, 4 = positive) and they can be used to detect sentiment.\n",
    "\n",
    "**Content**\n",
    "\n",
    "It contains the following 6 fields:\n",
    "\n",
    "target: the polarity of the tweet (0 = negative, 4 = positive)\n",
    "\n",
    "ids: The id of the tweet ( 2087)\n",
    "\n",
    "date: the date of the tweet (Sat May 16 23:58:44 UTC 2009)\n",
    "\n",
    "flag: The query (lyx). If there is no query, then this value is NO_QUERY.\n",
    "\n",
    "user: the user that tweeted (robotickilldozr)\n",
    "\n",
    "text: the text of the tweet (Lyx is cool)"
   ]
  },
  {
   "cell_type": "code",
   "execution_count": null,
   "metadata": {
    "id": "4Jbfz3_nqKzM"
   },
   "outputs": [],
   "source": [
    "df = pd.read_csv('/content/drive/My Drive/Colab-Notebooks/twitter-sa.csv',\n",
    "                 encoding='ISO-8859-1', \n",
    "                 names=[\n",
    "                        'target',\n",
    "                        'id',\n",
    "                        'date',\n",
    "                        'flag',\n",
    "                        'user',\n",
    "                        'text'\n",
    "                        ])"
   ]
  },
  {
   "cell_type": "code",
   "execution_count": null,
   "metadata": {
    "colab": {
     "base_uri": "https://localhost:8080/"
    },
    "id": "uNay9WGeyPq7",
    "outputId": "bd0875ea-9766-472e-aea8-07fe91041389"
   },
   "outputs": [
    {
     "name": "stdout",
     "output_type": "stream",
     "text": [
      "Drive already mounted at /content/drive; to attempt to forcibly remount, call drive.mount(\"/content/drive\", force_remount=True).\n"
     ]
    }
   ],
   "source": [
    "from google.colab import drive\n",
    "drive.mount('/content/drive')"
   ]
  },
  {
   "cell_type": "code",
   "execution_count": null,
   "metadata": {
    "colab": {
     "base_uri": "https://localhost:8080/",
     "height": 204
    },
    "id": "H7qT18CWqMVj",
    "outputId": "63eeae60-bbcc-4c2d-cee5-4af85700bbc6"
   },
   "outputs": [
    {
     "data": {
      "text/html": [
       "<div>\n",
       "<style scoped>\n",
       "    .dataframe tbody tr th:only-of-type {\n",
       "        vertical-align: middle;\n",
       "    }\n",
       "\n",
       "    .dataframe tbody tr th {\n",
       "        vertical-align: top;\n",
       "    }\n",
       "\n",
       "    .dataframe thead th {\n",
       "        text-align: right;\n",
       "    }\n",
       "</style>\n",
       "<table border=\"1\" class=\"dataframe\">\n",
       "  <thead>\n",
       "    <tr style=\"text-align: right;\">\n",
       "      <th></th>\n",
       "      <th>target</th>\n",
       "      <th>id</th>\n",
       "      <th>date</th>\n",
       "      <th>flag</th>\n",
       "      <th>user</th>\n",
       "      <th>text</th>\n",
       "    </tr>\n",
       "  </thead>\n",
       "  <tbody>\n",
       "    <tr>\n",
       "      <th>0</th>\n",
       "      <td>0</td>\n",
       "      <td>1467810369</td>\n",
       "      <td>Mon Apr 06 22:19:45 PDT 2009</td>\n",
       "      <td>NO_QUERY</td>\n",
       "      <td>_TheSpecialOne_</td>\n",
       "      <td>@switchfoot http://twitpic.com/2y1zl - Awww, t...</td>\n",
       "    </tr>\n",
       "    <tr>\n",
       "      <th>1</th>\n",
       "      <td>0</td>\n",
       "      <td>1467810672</td>\n",
       "      <td>Mon Apr 06 22:19:49 PDT 2009</td>\n",
       "      <td>NO_QUERY</td>\n",
       "      <td>scotthamilton</td>\n",
       "      <td>is upset that he can't update his Facebook by ...</td>\n",
       "    </tr>\n",
       "    <tr>\n",
       "      <th>2</th>\n",
       "      <td>0</td>\n",
       "      <td>1467810917</td>\n",
       "      <td>Mon Apr 06 22:19:53 PDT 2009</td>\n",
       "      <td>NO_QUERY</td>\n",
       "      <td>mattycus</td>\n",
       "      <td>@Kenichan I dived many times for the ball. Man...</td>\n",
       "    </tr>\n",
       "    <tr>\n",
       "      <th>3</th>\n",
       "      <td>0</td>\n",
       "      <td>1467811184</td>\n",
       "      <td>Mon Apr 06 22:19:57 PDT 2009</td>\n",
       "      <td>NO_QUERY</td>\n",
       "      <td>ElleCTF</td>\n",
       "      <td>my whole body feels itchy and like its on fire</td>\n",
       "    </tr>\n",
       "    <tr>\n",
       "      <th>4</th>\n",
       "      <td>0</td>\n",
       "      <td>1467811193</td>\n",
       "      <td>Mon Apr 06 22:19:57 PDT 2009</td>\n",
       "      <td>NO_QUERY</td>\n",
       "      <td>Karoli</td>\n",
       "      <td>@nationwideclass no, it's not behaving at all....</td>\n",
       "    </tr>\n",
       "  </tbody>\n",
       "</table>\n",
       "</div>"
      ],
      "text/plain": [
       "   target  ...                                               text\n",
       "0       0  ...  @switchfoot http://twitpic.com/2y1zl - Awww, t...\n",
       "1       0  ...  is upset that he can't update his Facebook by ...\n",
       "2       0  ...  @Kenichan I dived many times for the ball. Man...\n",
       "3       0  ...    my whole body feels itchy and like its on fire \n",
       "4       0  ...  @nationwideclass no, it's not behaving at all....\n",
       "\n",
       "[5 rows x 6 columns]"
      ]
     },
     "execution_count": 4,
     "metadata": {
      "tags": []
     },
     "output_type": "execute_result"
    }
   ],
   "source": [
    "df.head()"
   ]
  },
  {
   "cell_type": "code",
   "execution_count": null,
   "metadata": {
    "colab": {
     "base_uri": "https://localhost:8080/"
    },
    "id": "oixyUtPAqNr7",
    "outputId": "efccc9ad-30a6-4b63-ec47-7919b8bc445c"
   },
   "outputs": [
    {
     "data": {
      "text/plain": [
       "array([0, 4])"
      ]
     },
     "execution_count": 5,
     "metadata": {
      "tags": []
     },
     "output_type": "execute_result"
    }
   ],
   "source": [
    "# We have two classes in the dataset\n",
    "df.target.unique()"
   ]
  },
  {
   "cell_type": "code",
   "execution_count": null,
   "metadata": {
    "colab": {
     "base_uri": "https://localhost:8080/",
     "height": 265
    },
    "id": "mCwSnwMjqS_S",
    "outputId": "f7d01725-3610-44f2-fef6-d08bc440699f"
   },
   "outputs": [
    {
     "data": {
      "image/png": "[encoded data removed]",
      "text/plain": [
       "<Figure size 432x288 with 1 Axes>"
      ]
     },
     "metadata": {
      "tags": []
     },
     "output_type": "display_data"
    }
   ],
   "source": [
    "# Check how equally distributed those classes are.\n",
    "classes = df.target.unique()\n",
    "counts = []\n",
    "\n",
    "for i in classes:\n",
    "  count = len(df[df.target==i])\n",
    "  counts.append(count)\n",
    "\n",
    "plt.bar(['negative', 'positive'], counts)\n",
    "plt.show()"
   ]
  },
  {
   "cell_type": "markdown",
   "metadata": {
    "id": "X5vzCAxKqYcM"
   },
   "source": [
    "Even class distribution helps us a lot in text classifiction. Imagine a situation where 95% of data is in one class and the rest 5% is split among other 5 classes. If we wouldn't do anything about it model would just learn to guess the 95% class all the time and would be correct 95% of the time on the data we would use."
   ]
  },
  {
   "cell_type": "markdown",
   "metadata": {
    "id": "S0mECH8vpxTt"
   },
   "source": [
    "# Vectorize\n",
    "\n",
    "What we need to do now is to split the data into training and testing datasets and vectorize (essentialy turning text into number vectors) the text."
   ]
  },
  {
   "cell_type": "code",
   "execution_count": null,
   "metadata": {
    "id": "rVXC6MyLqbXK"
   },
   "outputs": [],
   "source": [
    "x = df.text.values\n",
    "y = df.target.values\n",
    "x_train, x_test, y_train, y_test = train_test_split(x, y, test_size=0.20, random_state=32)"
   ]
  },
  {
   "cell_type": "markdown",
   "metadata": {
    "id": "XL6kev17qiDT"
   },
   "source": [
    "Vectorizing"
   ]
  },
  {
   "cell_type": "code",
   "execution_count": null,
   "metadata": {
    "id": "7OggEnVEqish"
   },
   "outputs": [],
   "source": [
    "vectorizer = CountVectorizer()\n",
    "vectorizer.fit(x_train)\n",
    "\n",
    "X_train = vectorizer.transform(x_train)\n",
    "X_test = vectorizer.transform(x_test)"
   ]
  },
  {
   "cell_type": "markdown",
   "metadata": {
    "id": "LZEPAHlKqkio"
   },
   "source": [
    "Our vectorized dataset will consist of index of each word that is used in training dataset. We can check how it looks by simply printing the first tweet both as it was and after vectorizing it."
   ]
  },
  {
   "cell_type": "code",
   "execution_count": null,
   "metadata": {
    "colab": {
     "base_uri": "https://localhost:8080/"
    },
    "id": "gKj7D27XqmeQ",
    "outputId": "5082476f-03bf-4074-caf0-251b44a4fade"
   },
   "outputs": [
    {
     "name": "stdout",
     "output_type": "stream",
     "text": [
      "It was rainy and cloudy in the Windy City today &amp; WF customers had some serious SAD issues! I'm with them, when is summer coming?  \n",
      "   (0, 56126)\t1\n",
      "  (0, 57443)\t1\n",
      "  (0, 126950)\t1\n",
      "  (0, 129399)\t1\n",
      "  (0, 132544)\t1\n",
      "  (0, 142868)\t1\n",
      "  (0, 226851)\t1\n",
      "  (0, 251981)\t1\n",
      "  (0, 256885)\t1\n",
      "  (0, 257700)\t1\n",
      "  (0, 257841)\t1\n",
      "  (0, 433424)\t1\n",
      "  (0, 455284)\t1\n",
      "  (0, 467402)\t1\n",
      "  (0, 486023)\t1\n",
      "  (0, 501487)\t1\n",
      "  (0, 517082)\t1\n",
      "  (0, 519964)\t1\n",
      "  (0, 528707)\t1\n",
      "  (0, 558260)\t1\n",
      "  (0, 561897)\t1\n",
      "  (0, 562752)\t1\n",
      "  (0, 565913)\t1\n",
      "  (0, 566694)\t1\n"
     ]
    }
   ],
   "source": [
    "print(x_train[0], '\\n', X_train[0])"
   ]
  },
  {
   "cell_type": "markdown",
   "metadata": {
    "id": "HuBsZQzOqpTI"
   },
   "source": [
    "Now the sparse matrix you see corresponds to index of the word and count of it in the tweet. Keep in mind it's not in the same order as in the tweet. You can check the corresponding values using vocabulary of the vectorizer."
   ]
  },
  {
   "cell_type": "code",
   "execution_count": null,
   "metadata": {
    "colab": {
     "base_uri": "https://localhost:8080/"
    },
    "id": "26D6z48Iqs8V",
    "outputId": "e5f7bc0f-0bda-43ff-97d8-b9da90beadbf"
   },
   "outputs": [
    {
     "name": "stdout",
     "output_type": "stream",
     "text": [
      "It 257841\n",
      "was 558260\n",
      "rainy 433424\n",
      "and 57443\n",
      "cloudy 129399\n",
      "in 251981\n",
      "the 517082\n",
      "Windy 565913\n",
      "City 126950\n",
      "today 528707\n",
      "amp 56126\n",
      "WF 561897\n",
      "customers 142868\n",
      "had 226851\n",
      "some 486023\n",
      "serious 467402\n",
      "SAD 455284\n",
      "issues 257700\n",
      "with 566694\n",
      "them 519964\n",
      "when 562752\n",
      "is 256885\n",
      "summer 501487\n",
      "coming 132544\n"
     ]
    }
   ],
   "source": [
    "import re\n",
    "\n",
    "# delimiters https://stackoverflow.com/questions/35221535/python-removing-delimiters-from-strings\n",
    "d = \",.!?/&-:;@'...\"\n",
    "\"[\"+\"\\\\\".join(d)+\"]\"\n",
    "\n",
    "# clean up the string\n",
    "s = x_train[0]\n",
    "s = ' '.join(w for w in re.split(\"[\"+\"\\\\\".join(d)+\"]\", s) if w)\n",
    "\n",
    "for i in s.split():\n",
    "  if len(i)>1: print(i, vectorizer.vocabulary_[i.lower()])"
   ]
  },
  {
   "cell_type": "markdown",
   "metadata": {
    "id": "Y7EfWIQkqub8"
   },
   "source": [
    "# Modelling\n",
    "The model that we use here is a simple [Logistic Regression](https://en.wikipedia.org/wiki/Logistic_regression). \\\\\n",
    "It's the simpliest model (to my knowledge) to start with text classification and use it's accuracy as a base measure."
   ]
  },
  {
   "cell_type": "code",
   "execution_count": null,
   "metadata": {
    "colab": {
     "background_save": true
    },
    "id": "5g4XDD_Eq2Yp",
    "outputId": "7fdb2b32-4e5a-4869-a4ce-54dd2292a0a8"
   },
   "outputs": [
    {
     "name": "stdout",
     "output_type": "stream",
     "text": [
      "Accuracy: 0.8003125\n"
     ]
    },
    {
     "name": "stderr",
     "output_type": "stream",
     "text": [
      "/usr/local/lib/python3.6/dist-packages/sklearn/linear_model/_logistic.py:940: ConvergenceWarning: lbfgs failed to converge (status=1):\n",
      "STOP: TOTAL NO. of ITERATIONS REACHED LIMIT.\n",
      "\n",
      "Increase the number of iterations (max_iter) or scale the data as shown in:\n",
      "    https://scikit-learn.org/stable/modules/preprocessing.html\n",
      "Please also refer to the documentation for alternative solver options:\n",
      "    https://scikit-learn.org/stable/modules/linear_model.html#logistic-regression\n",
      "  extra_warning_msg=_LOGISTIC_SOLVER_CONVERGENCE_MSG)\n"
     ]
    }
   ],
   "source": [
    "classifier = LogisticRegression(max_iter=1000)\n",
    "classifier.fit(X_train, y_train)\n",
    "\n",
    "score = classifier.score(X_test, y_test)\n",
    "\n",
    "print(\"Accuracy:\", score)"
   ]
  },
  {
   "cell_type": "markdown",
   "metadata": {
    "id": "YjQroVLYq6C2"
   },
   "source": [
    "So we got an 80% accuracy measure which is great considering we only used like 5mins of our time to make this."
   ]
  },
  {
   "cell_type": "markdown",
   "metadata": {
    "id": "M7JHukwjq7JI"
   },
   "source": [
    "#Confussion matrix\n",
    "Before jumping into other models it's always good to check how our model performs in different classes. For that we can use [confussion matrix](https://en.wikipedia.org/wiki/Confusion_matrix).\n",
    "\n",
    "It essentially shows how many times model predicted which class and how many of those times the class it slected was the right one. Here columns are true values and lines are predicted values."
   ]
  },
  {
   "cell_type": "code",
   "execution_count": null,
   "metadata": {
    "colab": {
     "background_save": true
    },
    "id": "zpRVRTXVq_2v",
    "outputId": "01a9424d-1718-4ae0-c2f3-3b086a77558f"
   },
   "outputs": [
    {
     "data": {
      "text/html": [
       "<div>\n",
       "<style scoped>\n",
       "    .dataframe tbody tr th:only-of-type {\n",
       "        vertical-align: middle;\n",
       "    }\n",
       "\n",
       "    .dataframe tbody tr th {\n",
       "        vertical-align: top;\n",
       "    }\n",
       "\n",
       "    .dataframe thead th {\n",
       "        text-align: right;\n",
       "    }\n",
       "</style>\n",
       "<table border=\"1\" class=\"dataframe\">\n",
       "  <thead>\n",
       "    <tr style=\"text-align: right;\">\n",
       "      <th></th>\n",
       "      <th>0</th>\n",
       "      <th>4</th>\n",
       "    </tr>\n",
       "  </thead>\n",
       "  <tbody>\n",
       "    <tr>\n",
       "      <th>0</th>\n",
       "      <td>126492</td>\n",
       "      <td>33829</td>\n",
       "    </tr>\n",
       "    <tr>\n",
       "      <th>4</th>\n",
       "      <td>30071</td>\n",
       "      <td>129608</td>\n",
       "    </tr>\n",
       "  </tbody>\n",
       "</table>\n",
       "</div>"
      ],
      "text/plain": [
       "        0       4\n",
       "0  126492   33829\n",
       "4   30071  129608"
      ]
     },
     "execution_count": 0,
     "metadata": {
      "tags": []
     },
     "output_type": "execute_result"
    }
   ],
   "source": [
    "y_pred = classifier.predict(X_test)\n",
    "cm = confusion_matrix(y_test, y_pred, labels=df.target.unique())\n",
    "df_cm = pd.DataFrame(cm, index=df.target.unique(), columns=df.target.unique())\n",
    "df_cm"
   ]
  },
  {
   "cell_type": "markdown",
   "metadata": {
    "id": "lh_YiSeprCEr"
   },
   "source": [
    "For a better understanding you could use percentage expression."
   ]
  },
  {
   "cell_type": "code",
   "execution_count": null,
   "metadata": {
    "colab": {
     "background_save": true
    },
    "id": "23Dqq7gprC0A",
    "outputId": "e2d4523e-cd7b-4a72-e81c-7a8d86b300e1"
   },
   "outputs": [
    {
     "data": {
      "text/html": [
       "<div>\n",
       "<style scoped>\n",
       "    .dataframe tbody tr th:only-of-type {\n",
       "        vertical-align: middle;\n",
       "    }\n",
       "\n",
       "    .dataframe tbody tr th {\n",
       "        vertical-align: top;\n",
       "    }\n",
       "\n",
       "    .dataframe thead th {\n",
       "        text-align: right;\n",
       "    }\n",
       "</style>\n",
       "<table border=\"1\" class=\"dataframe\">\n",
       "  <thead>\n",
       "    <tr style=\"text-align: right;\">\n",
       "      <th></th>\n",
       "      <th>0</th>\n",
       "      <th>4</th>\n",
       "    </tr>\n",
       "  </thead>\n",
       "  <tbody>\n",
       "    <tr>\n",
       "      <th>0</th>\n",
       "      <td>0.80793</td>\n",
       "      <td>0.206985</td>\n",
       "    </tr>\n",
       "    <tr>\n",
       "      <th>4</th>\n",
       "      <td>0.19207</td>\n",
       "      <td>0.793015</td>\n",
       "    </tr>\n",
       "  </tbody>\n",
       "</table>\n",
       "</div>"
      ],
      "text/plain": [
       "         0         4\n",
       "0  0.80793  0.206985\n",
       "4  0.19207  0.793015"
      ]
     },
     "execution_count": 0,
     "metadata": {
      "tags": []
     },
     "output_type": "execute_result"
    }
   ],
   "source": [
    "df_cm_percentage = df_cm.copy()\n",
    "for i in df_cm_percentage:\n",
    "  df_cm_percentage[i]/=df_cm_percentage[i].sum()\n",
    "\n",
    "df_cm_percentage"
   ]
  },
  {
   "cell_type": "markdown",
   "metadata": {
    "id": "v7CrW08DrE_Z"
   },
   "source": [
    "# Test"
   ]
  },
  {
   "cell_type": "markdown",
   "metadata": {
    "id": "soAgkKe7rOaZ"
   },
   "source": [
    "Now we need to check if it actually works. \n",
    "\n",
    "The comment is: We all struggle, even the people you don’t think... so here’s me opening up a little."
   ]
  },
  {
   "cell_type": "code",
   "execution_count": null,
   "metadata": {
    "colab": {
     "background_save": true
    },
    "id": "PsD1xXF6rRF3",
    "outputId": "fcbdc613-5c6b-4395-8b1e-ba7b39187211"
   },
   "outputs": [
    {
     "name": "stdout",
     "output_type": "stream",
     "text": [
      "Tweet is positive\n"
     ]
    }
   ],
   "source": [
    "tweet = 'Life is a journey, enjoy it.'\n",
    "vectTweet = vectorizer.transform(np.array([tweet]))  # vectorizes the tweet using our vectorizer\n",
    "\n",
    "prediction = classifier.predict(vectTweet)  # predicts class of the tweet\n",
    "print('Tweet is', 'positive' if prediction[0]==4 else 'negative')"
   ]
  },
  {
   "cell_type": "markdown",
   "metadata": {
    "id": "MzZYcT5PrUUE"
   },
   "source": [
    "Good, so our model is right here. Let's just make sure our model works okay with very specific sentiments."
   ]
  },
  {
   "cell_type": "code",
   "execution_count": null,
   "metadata": {
    "colab": {
     "background_save": true
    },
    "id": "iS-sKsrPrU_D",
    "outputId": "95e23e4d-4f25-4170-baed-9e6826798a97"
   },
   "outputs": [
    {
     "name": "stdout",
     "output_type": "stream",
     "text": [
      "Best tweet ever! | This tweet is positive\n",
      "Mondays are the worst... | This tweet is negative\n"
     ]
    }
   ],
   "source": [
    "tweetList = ['Best tweet ever!', 'Mondays are the worst...']\n",
    "vectTweet = vectorizer.transform(np.array(tweetList))  # vectorizes the tweet using our vectorizer\n",
    "\n",
    "prediction = classifier.predict(vectTweet)  # predicts class of the tweet\n",
    "for enum, i in enumerate(tweetList):\n",
    "  print(i, '| This tweet is', 'positive' if prediction[enum]==4 else 'negative')"
   ]
  }
 ],
 "metadata": {
  "accelerator": "GPU",
  "colab": {
   "authorship_tag": "ABX9TyMBuVQQd6kJFQQ0EwldKp6g",
   "include_colab_link": true,
   "mount_file_id": "18dZF3QCeuNT1kEYkHi0KLzycZGeOJrSO",
   "name": "Text Classification using Logistic Regression.ipynb",
   "provenance": []
  },
  "kernelspec": {
   "display_name": "Python 3",
   "language": "python",
   "name": "python3"
  },
  "language_info": {
   "codemirror_mode": {
    "name": "ipython",
    "version": 3
   },
   "file_extension": ".py",
   "mimetype": "text/x-python",
   "name": "python",
   "nbconvert_exporter": "python",
   "pygments_lexer": "ipython3",
   "version": "3.7.3"
  }
 },
 "nbformat": 4,
 "nbformat_minor": 1
}
